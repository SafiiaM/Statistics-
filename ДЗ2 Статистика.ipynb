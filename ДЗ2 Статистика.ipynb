{
 "cells": [
  {
   "cell_type": "markdown",
   "id": "0b8c48ad",
   "metadata": {},
   "source": [
    "Задача 1 "
   ]
  },
  {
   "cell_type": "code",
   "execution_count": null,
   "id": "39b00991",
   "metadata": {},
   "outputs": [],
   "source": [
    "from scipy.stats import poisson, binom"
   ]
  },
  {
   "cell_type": "code",
   "execution_count": 1,
   "id": "85c11518",
   "metadata": {},
   "outputs": [
    {
     "data": {
      "text/plain": [
       "0.037092614343691946"
      ]
     },
     "execution_count": 1,
     "metadata": {},
     "output_type": "execute_result"
    }
   ],
   "source": [
    "import math\n",
    "n = 100\n",
    "p = 0.8\n",
    "m = 85\n",
    "l = n * p\n",
    "((l **m) / (math.factorial(m))) * math.e **(-l)"
   ]
  },
  {
   "cell_type": "code",
   "execution_count": 8,
   "id": "f1fe9bf1",
   "metadata": {},
   "outputs": [
    {
     "data": {
      "text/plain": [
       "0.037092614343690905"
      ]
     },
     "execution_count": 8,
     "metadata": {},
     "output_type": "execute_result"
    }
   ],
   "source": [
    "from scipy.stats import poisson\n",
    "\n",
    "#calculate probability\n",
    "poisson.pmf(k=85, mu=l)"
   ]
  },
  {
   "cell_type": "markdown",
   "id": "5dbd9868",
   "metadata": {},
   "source": [
    "Задача 2 "
   ]
  },
  {
   "cell_type": "code",
   "execution_count": 4,
   "id": "7ac80efe",
   "metadata": {},
   "outputs": [
    {
     "data": {
      "text/plain": [
       "0.2706705664732254"
      ]
     },
     "execution_count": 4,
     "metadata": {},
     "output_type": "execute_result"
    }
   ],
   "source": [
    "from scipy.stats import poisson\n",
    "\n",
    "#calculate probability\n",
    "n = 5000\n",
    "p = 0.0004\n",
    "m = 2\n",
    "l = n * p\n",
    "poisson.pmf(k=2, mu=l)"
   ]
  },
  {
   "cell_type": "code",
   "execution_count": 5,
   "id": "5b23a5c1",
   "metadata": {},
   "outputs": [
    {
     "data": {
      "text/plain": [
       "0.2706705664732254"
      ]
     },
     "execution_count": 5,
     "metadata": {},
     "output_type": "execute_result"
    }
   ],
   "source": [
    "import math\n",
    "n = 5000\n",
    "p = 0.0004\n",
    "m = 2\n",
    "l = n * p\n",
    "((l **m) / (math.factorial(m))) * math.e **(-l)"
   ]
  },
  {
   "cell_type": "code",
   "execution_count": 3,
   "id": "71f38c76",
   "metadata": {},
   "outputs": [
    {
     "data": {
      "text/plain": [
       "0.1353352832366127"
      ]
     },
     "execution_count": 3,
     "metadata": {},
     "output_type": "execute_result"
    }
   ],
   "source": [
    "from scipy.stats import poisson\n",
    "\n",
    "#calculate probability\n",
    "n = 5000\n",
    "p = 0.0004\n",
    "m = 0\n",
    "l = n * p\n",
    "poisson.pmf(k=0, mu=l)"
   ]
  },
  {
   "cell_type": "code",
   "execution_count": 6,
   "id": "04795be9",
   "metadata": {},
   "outputs": [
    {
     "data": {
      "text/plain": [
       "0.1353352832366127"
      ]
     },
     "execution_count": 6,
     "metadata": {},
     "output_type": "execute_result"
    }
   ],
   "source": [
    "import math\n",
    "n = 5000\n",
    "p = 0.0004\n",
    "m = 0\n",
    "l = n * p\n",
    "((l **m) / (math.factorial(m))) * math.e **(-l)"
   ]
  },
  {
   "cell_type": "markdown",
   "id": "4f894a1d",
   "metadata": {},
   "source": [
    "Задача 3 "
   ]
  },
  {
   "cell_type": "code",
   "execution_count": null,
   "id": "1951b69e",
   "metadata": {},
   "outputs": [],
   "source": [
    "P(X=k) = C(n,k)* p^k *q^(n-k) - Формула Бернулли\n",
    "\tk ,число наступления события (дискретная величина из отрезка [0, n]) k=75\n",
    "\tn -  число испытаний n=144\n",
    "\tp - вероятность наступления события A в  независимых испытаниях, p=0,5\n",
    "\tq = 1 – p. Противоположная вероятность q=1-0,5=0,5   \n"
   ]
  },
  {
   "cell_type": "code",
   "execution_count": 10,
   "id": "727c12fb",
   "metadata": {},
   "outputs": [
    {
     "data": {
      "text/plain": [
       "0.058624328328017915"
      ]
     },
     "execution_count": 10,
     "metadata": {},
     "output_type": "execute_result"
    }
   ],
   "source": [
    "C(144, 75) * 0.5**75 * 0.5**69"
   ]
  },
  {
   "cell_type": "code",
   "execution_count": 13,
   "id": "aa98e821",
   "metadata": {},
   "outputs": [
    {
     "data": {
      "text/plain": [
       "0.058624328328018"
      ]
     },
     "execution_count": 13,
     "metadata": {},
     "output_type": "execute_result"
    }
   ],
   "source": [
    "from scipy.stats import poisson, binom\n",
    "binom.pmf(75, 144, 0.5)\n"
   ]
  },
  {
   "cell_type": "markdown",
   "id": "4ae0c3ac",
   "metadata": {},
   "source": [
    "Задача 4"
   ]
  },
  {
   "cell_type": "code",
   "execution_count": null,
   "id": "c7fd2c69",
   "metadata": {},
   "outputs": [],
   "source": [
    "В первом ящике находится 10 мячей, из которых 7 - белые. Во втором ящике - 11 мячей, из которых 9 белых. \n",
    "Из каждого ящика вытаскивают случайным образом по два мяча. \n",
    "Какова вероятность того, что все мячи белые? \n",
    "Какова вероятность того, что ровно два мяча белые? \n",
    "Какова вероятность того, что хотя бы один мяч белый?\n",
    "\n",
    "Введем гипотезы:\n",
    "Н1 = (4 белых мяча из 4). \n",
    "Н2 = (2 белых мяча  из 4). \n",
    "Н3 = (хотя бы 1 мяч из 4 белый). \n",
    "\n"
   ]
  },
  {
   "cell_type": "code",
   "execution_count": null,
   "id": "ce980ac3",
   "metadata": {},
   "outputs": [],
   "source": [
    "P(H1) = 0,31\n",
    "1)7/10*6/9= 7/15 - 2 белых мяча из 1 ящика \n",
    "2) 9/11*8/10= 36/55 - 2 белых мяча из 2 ящика\n",
    "3) 7/15*36/55=0,31 - ВЕРОЯТНОСТЬ, ЧТО 4 ИЗ 4 МЯЧЕЙ БЕЛЫЕ\n"
   ]
  },
  {
   "cell_type": "code",
   "execution_count": null,
   "id": "840fc18e",
   "metadata": {},
   "outputs": [],
   "source": [
    "Р(Н2)=0,203     \n",
    "1)7/10*6/9*2/11*1/10=7/15*1/55= 0,008 -  2 белых из 1 и 2 черных из 2 \n",
    "2)7/10*3/9*9/11*2/10=7/30*9/55= 0,038 - 1 белый 1 черный из 1 , 1 белый 1 черный из 2 \n",
    "3)7/10*3/9*2/11*9/10=7/30*9/55= 0,038 - 1 белый 1 черный из 1 , 1 черный 1 белый из 2 \n",
    "4)3/10*7/9*9/11*2/10=7/30*9/55= 0,038 -  1 черный 1 белый из 1 , 1 белый 1 черный из 2 \n",
    "5)3/10*7/9*2/11*9/10=7/30*9/55= 0,038 -  1 черный 1 белый из 1 ,  1 черный 1 белый из 2 \n",
    "6)3/10*2/9*9/11*8/10=1/15*36/55=0,043 - 2 черных из 1 и 2 белых из 2 \n",
    "7) 0,008+0,038*4+0,043=0,203"
   ]
  },
  {
   "cell_type": "code",
   "execution_count": null,
   "id": "93468737",
   "metadata": {},
   "outputs": [],
   "source": [
    "Р(Н3)=0,9988\n",
    "1)q=3/10*2/9*2/11*1/10=1/15*1/55=0,0012 - 2 черных из 1 и 2 черных из 2 \n",
    "2)1-q=0,9988"
   ]
  }
 ],
 "metadata": {
  "kernelspec": {
   "display_name": "Python 3",
   "language": "python",
   "name": "python3"
  },
  "language_info": {
   "codemirror_mode": {
    "name": "ipython",
    "version": 3
   },
   "file_extension": ".py",
   "mimetype": "text/x-python",
   "name": "python",
   "nbconvert_exporter": "python",
   "pygments_lexer": "ipython3",
   "version": "3.11.0rc2 (main, Sep 11 2022, 20:22:52) [MSC v.1933 64 bit (AMD64)]"
  },
  "vscode": {
   "interpreter": {
    "hash": "5238573367df39f7286bb46f9ff5f08f63a01a80960060ce41e3c79b190280fa"
   }
  }
 },
 "nbformat": 4,
 "nbformat_minor": 5
}
