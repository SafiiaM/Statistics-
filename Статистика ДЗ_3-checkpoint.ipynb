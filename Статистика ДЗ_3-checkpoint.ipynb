{
 "cells": [
  {
   "cell_type": "markdown",
   "id": "42ffdcba",
   "metadata": {},
   "source": [
    "1.1.\tДаны значения зарплат из выборки выпускников: 100, 80, 75, 77, 89, 33, 45, 25, 65, 17, 30, 24, 57, 55, 70, 75, 65, 84, 90, 150. Посчитать (желательно без использования статистических методов наподобие std, var, mean) среднее арифметическое, медиану, среднее квадратичное отклонение, смещенную и несмещенную оценки дисперсий для данной выборки, интерквартильное расстояние. Вывести график boxplot по выборке. "
   ]
  },
  {
   "cell_type": "code",
   "execution_count": 5,
   "id": "acb8c1a7",
   "metadata": {},
   "outputs": [],
   "source": [
    "import numpy as numpy\n",
    "import seaborn "
   ]
  },
  {
   "cell_type": "code",
   "execution_count": 5,
   "id": "4844d4a3",
   "metadata": {},
   "outputs": [
    {
     "name": "stdout",
     "output_type": "stream",
     "text": [
      "[ 17  24  25  30  33  45  55  57  65  65  70  75  75  77  80  84  89  90\n",
      " 100 150]\n",
      "20\n"
     ]
    }
   ],
   "source": [
    "z = numpy.array([100, 80, 75, 77, 89, 33, 45, 25, 65, 17, 30, 24, 57, 55, 70, 75, 65, 84, 90, 150])\n",
    "z.sort()\n",
    "print(z)\n",
    "n = int(z.shape[0])\n",
    "print(n)"
   ]
  },
  {
   "cell_type": "markdown",
   "id": "81d84e75",
   "metadata": {},
   "source": [
    "Мат ожидание - среднее\n",
    "\n",
    "M(X) = sum(x_i) / shape"
   ]
  },
  {
   "cell_type": "code",
   "execution_count": 6,
   "id": "964a65dd",
   "metadata": {},
   "outputs": [
    {
     "name": "stdout",
     "output_type": "stream",
     "text": [
      "65.3\n"
     ]
    }
   ],
   "source": [
    "M = sum(z)/n \n",
    "print(M)"
   ]
  },
  {
   "cell_type": "code",
   "execution_count": 7,
   "id": "488e531a",
   "metadata": {},
   "outputs": [
    {
     "name": "stdout",
     "output_type": "stream",
     "text": [
      "65.3\n"
     ]
    }
   ],
   "source": [
    "M_np = numpy.mean(z) #проверка\n",
    "print(M_np)"
   ]
  },
  {
   "cell_type": "markdown",
   "id": "d0da7570",
   "metadata": {},
   "source": [
    "Найти медиану"
   ]
  },
  {
   "cell_type": "code",
   "execution_count": 8,
   "id": "ce08c00f",
   "metadata": {},
   "outputs": [
    {
     "name": "stdout",
     "output_type": "stream",
     "text": [
      "67.5\n"
     ]
    }
   ],
   "source": [
    "median = (z[int(n/2) - 1] + z[int(n/2)])/2\n",
    "print(median)"
   ]
  },
  {
   "cell_type": "code",
   "execution_count": 9,
   "id": "9252885d",
   "metadata": {},
   "outputs": [
    {
     "name": "stdout",
     "output_type": "stream",
     "text": [
      "67.5\n"
     ]
    }
   ],
   "source": [
    "median_np = numpy.median(z) #проверка\n",
    "print(median_np)"
   ]
  },
  {
   "cell_type": "markdown",
   "id": "c91c9733",
   "metadata": {},
   "source": [
    "Найти интерквартильное расстояние.\n",
    "\n",
    "Найдем первый и третий квартиль"
   ]
  },
  {
   "cell_type": "code",
   "execution_count": 61,
   "id": "bf509c6a",
   "metadata": {},
   "outputs": [
    {
     "name": "stdout",
     "output_type": "stream",
     "text": [
      "5.0\n",
      "15.0\n"
     ]
    }
   ],
   "source": [
    "k_1 = 25\n",
    "k_3 = 75\n",
    "print(n*k_1/100)\n",
    "print(n*k_3/100)\n",
    "\n",
    "#  nk/100 +1\n",
    "#Если n*k/100 –  целое число, тогда k-я перцентиль – это среднее значение элементов под номерами n*k/100 и (n*k /100)+1. Здесь n – объем выборки, k – перцентиль."
   ]
  },
  {
   "cell_type": "code",
   "execution_count": 27,
   "id": "de7e6863",
   "metadata": {},
   "outputs": [
    {
     "data": {
      "text/plain": [
       "20"
      ]
     },
     "execution_count": 27,
     "metadata": {},
     "output_type": "execute_result"
    }
   ],
   "source": [
    "n=len(z)\n",
    "n"
   ]
  },
  {
   "cell_type": "code",
   "execution_count": 62,
   "id": "b03ccdd9",
   "metadata": {},
   "outputs": [
    {
     "data": {
      "text/plain": [
       "47"
      ]
     },
     "execution_count": 62,
     "metadata": {},
     "output_type": "execute_result"
    }
   ],
   "source": [
    "z[15-1]-z[5-1]\n"
   ]
  },
  {
   "cell_type": "code",
   "execution_count": 69,
   "id": "da9e691b",
   "metadata": {},
   "outputs": [
    {
     "data": {
      "text/plain": [
       "42.0"
      ]
     },
     "execution_count": 69,
     "metadata": {},
     "output_type": "execute_result"
    }
   ],
   "source": [
    "numpy.percentile(z,25) #1quart"
   ]
  },
  {
   "cell_type": "code",
   "execution_count": 70,
   "id": "cf10b6f5",
   "metadata": {},
   "outputs": [
    {
     "data": {
      "text/plain": [
       "81.0"
      ]
     },
     "execution_count": 70,
     "metadata": {},
     "output_type": "execute_result"
    }
   ],
   "source": [
    "numpy.percentile(z,75) #3quart"
   ]
  },
  {
   "cell_type": "code",
   "execution_count": 72,
   "id": "432ea092",
   "metadata": {},
   "outputs": [],
   "source": [
    "import scipy.stats as stats"
   ]
  },
  {
   "cell_type": "code",
   "execution_count": 73,
   "id": "8f1ad5e3",
   "metadata": {},
   "outputs": [
    {
     "data": {
      "text/plain": [
       "39.0"
      ]
     },
     "execution_count": 73,
     "metadata": {},
     "output_type": "execute_result"
    }
   ],
   "source": [
    "stats.iqr(z) #interquart"
   ]
  },
  {
   "cell_type": "code",
   "execution_count": 68,
   "id": "2e73d670",
   "metadata": {},
   "outputs": [
    {
     "data": {
      "text/plain": [
       "<AxesSubplot:>"
      ]
     },
     "execution_count": 68,
     "metadata": {},
     "output_type": "execute_result"
    },
    {
     "data": {
      "image/png": "[encoded data removed]",
      "text/plain": [
       "<Figure size 640x480 with 1 Axes>"
      ]
     },
     "metadata": {},
     "output_type": "display_data"
    }
   ],
   "source": [
    "seaborn.boxplot(data=z)\n"
   ]
  },
  {
   "cell_type": "code",
   "execution_count": 64,
   "id": "67363f03",
   "metadata": {},
   "outputs": [
    {
     "data": {
      "text/plain": [
       "65.3"
      ]
     },
     "execution_count": 64,
     "metadata": {},
     "output_type": "execute_result"
    }
   ],
   "source": [
    "numpy.mean(z)"
   ]
  },
  {
   "cell_type": "code",
   "execution_count": 65,
   "id": "28b86e08",
   "metadata": {},
   "outputs": [
    {
     "data": {
      "text/plain": [
       "67.5"
      ]
     },
     "execution_count": 65,
     "metadata": {},
     "output_type": "execute_result"
    }
   ],
   "source": [
    "numpy.median(z)"
   ]
  },
  {
   "cell_type": "code",
   "execution_count": 66,
   "id": "7867189e",
   "metadata": {},
   "outputs": [
    {
     "data": {
      "text/plain": [
       "33"
      ]
     },
     "execution_count": 66,
     "metadata": {},
     "output_type": "execute_result"
    }
   ],
   "source": [
    "z[4]"
   ]
  },
  {
   "cell_type": "code",
   "execution_count": 67,
   "id": "f5e945bf",
   "metadata": {},
   "outputs": [
    {
     "data": {
      "text/plain": [
       "80"
      ]
     },
     "execution_count": 67,
     "metadata": {},
     "output_type": "execute_result"
    }
   ],
   "source": [
    "z[14]"
   ]
  },
  {
   "cell_type": "code",
   "execution_count": null,
   "id": "ff0a8995",
   "metadata": {},
   "outputs": [],
   "source": []
  },
  {
   "cell_type": "markdown",
   "id": "bdffea24",
   "metadata": {},
   "source": [
    "Найти смещенное стандартное отклонение и дисперсию для выборки "
   ]
  },
  {
   "cell_type": "code",
   "execution_count": 17,
   "id": "9a8bcac0",
   "metadata": {},
   "outputs": [
    {
     "data": {
      "text/plain": [
       "30.823854398825592"
      ]
     },
     "execution_count": 17,
     "metadata": {},
     "output_type": "execute_result"
    }
   ],
   "source": [
    "numpy.std(z)"
   ]
  },
  {
   "cell_type": "code",
   "execution_count": 21,
   "id": "b204062c",
   "metadata": {},
   "outputs": [
    {
     "data": {
      "text/plain": [
       "950.1099999999999"
      ]
     },
     "execution_count": 21,
     "metadata": {},
     "output_type": "execute_result"
    }
   ],
   "source": [
    "numpy.var(z)"
   ]
  },
  {
   "cell_type": "code",
   "execution_count": 22,
   "id": "f6811f2a",
   "metadata": {},
   "outputs": [
    {
     "data": {
      "text/plain": [
       "30.823854398825592"
      ]
     },
     "execution_count": 22,
     "metadata": {},
     "output_type": "execute_result"
    }
   ],
   "source": [
    "numpy.sqrt(950.1099999999999)     "
   ]
  },
  {
   "cell_type": "markdown",
   "id": "ae445463",
   "metadata": {},
   "source": [
    "Найти несмещенное стандартное отклонение и дисперсию для выборки "
   ]
  },
  {
   "cell_type": "code",
   "execution_count": 23,
   "id": "2eee1b39",
   "metadata": {},
   "outputs": [
    {
     "data": {
      "text/plain": [
       "31.62460734101981"
      ]
     },
     "execution_count": 23,
     "metadata": {},
     "output_type": "execute_result"
    }
   ],
   "source": [
    "numpy.std(z, ddof=1)"
   ]
  },
  {
   "cell_type": "code",
   "execution_count": 24,
   "id": "d63cd6f6",
   "metadata": {},
   "outputs": [
    {
     "data": {
      "text/plain": [
       "1000.115789473684"
      ]
     },
     "execution_count": 24,
     "metadata": {},
     "output_type": "execute_result"
    }
   ],
   "source": [
    "numpy.var(z,ddof=1)"
   ]
  },
  {
   "cell_type": "code",
   "execution_count": 25,
   "id": "09141d2b",
   "metadata": {},
   "outputs": [
    {
     "data": {
      "text/plain": [
       "31.62460734101981"
      ]
     },
     "execution_count": 25,
     "metadata": {},
     "output_type": "execute_result"
    }
   ],
   "source": [
    "numpy.sqrt(1000.115789473684)"
   ]
  },
  {
   "cell_type": "markdown",
   "id": "d97fabfc",
   "metadata": {},
   "source": [
    "2.\tВ первом ящике находится 8 мячей, из которых 5 - белые. Во втором ящике - 12 мячей, из которых 5 белых. Из первого ящика вытаскивают случайным образом два мяча, из второго - 4. Какова вероятность того, что 3 мяча белые? \n",
    "\n"
   ]
  },
  {
   "cell_type": "code",
   "execution_count": 77,
   "id": "25b1bec3",
   "metadata": {},
   "outputs": [],
   "source": [
    "from math import factorial as fl\n",
    "import numpy "
   ]
  },
  {
   "cell_type": "code",
   "execution_count": 76,
   "id": "6d06d5bc",
   "metadata": {},
   "outputs": [],
   "source": [
    "# сочетания\n",
    "def combinations(k, n):\n",
    "    return fl(n) / (fl(k) * fl(n - k))"
   ]
  },
  {
   "cell_type": "code",
   "execution_count": 78,
   "id": "8968acc9",
   "metadata": {},
   "outputs": [
    {
     "data": {
      "text/plain": [
       "0.3686868686868686"
      ]
     },
     "execution_count": 78,
     "metadata": {},
     "output_type": "execute_result"
    }
   ],
   "source": [
    "combinations(2, 3)*combinations(0,5) / combinations(2, 8) * combinations(3, 5) * combinations(1, 7)/ combinations(4,12)+ combinations(1, 3)*combinations(1,5) / combinations(2, 8) * combinations(2, 5) * combinations(2, 7)/ combinations(4,12)+combinations(0, 3)*combinations(2,5) / combinations(2, 8) * combinations(1, 5) * combinations(3, 7)/ combinations(4,12)"
   ]
  },
  {
   "cell_type": "markdown",
   "id": "91314a87",
   "metadata": {},
   "source": [
    "3.\tНа соревновании по биатлону один из трех спортсменов стреляет и попадает в мишень. Вероятность попадания для первого спортсмена равна 0.9, для второго — 0.8, для третьего — 0.6. Найти вероятность того, что выстрел произведен: a). первым спортсменом б). вторым спортсменом в). третьим спортсменом.\n",
    "\n",
    "p1=0,9 - Вероятность попадания для первого спортсмена \n",
    "q2=1-p2=1-0,8=0,2 - Вероятность непопадания для второго спортсмена \n",
    "q3=1-p3=1-0,6=0,4 - Вероятность непопадания для третьего спортсмена\n",
    "\n",
    "q1=1-0,9=0,1 - Вероятность непопадания для первого спортсмена \n",
    "p2=0,8 - Вероятность попадания для второго спортсмена \n",
    "p3=0,6 - Вероятность попадания для третьегоспортсмена\n",
    "\n",
    "1) х1=p1⋅q2⋅q3+q1⋅p2⋅q3+q1⋅q2⋅p3 - вероятность попадания первым спортсменом х1= 0,9*0,2*0,4+0,1*0,8*0,4+0,1*0,2*0,6=0,116\n",
    "\n",
    "2) х2=p1⋅p2⋅q3+p1⋅q2⋅p3+q1⋅p2⋅p3 - вероятность попадания вторым спортсменом х2= 0,9*0,8*0,4+0,9*0,2*0,6+0,1*0,8*0,6=0,444\n",
    "\n",
    "3) х3=p1⋅p2⋅p3 - вероятность попадания третьим спортсменом х3= 0,9*0,8*0,6=0,432"
   ]
  },
  {
   "cell_type": "markdown",
   "id": "b24b7615",
   "metadata": {},
   "source": [
    "4.\tВ университет на факультеты A и B поступило равное количество студентов, а на факультет C студентов поступило столько же, сколько на A и B вместе. Вероятность того, что студент факультета A сдаст первую сессию, равна 0.8. Для студента факультета B эта вероятность равна 0.7, а для студента факультета C - 0.9. Студент сдал первую сессию. Какова вероятность, что он учится: a). на факультете A б). на факультете B в). на факультете C? "
   ]
  },
  {
   "cell_type": "markdown",
   "id": "a64aee55",
   "metadata": {},
   "source": [
    "1)\n",
    "Вероятность, что студент учится на факультете А: P(A) = 0.25\n",
    "Вероятность, что студент учится на факультете B: P(B) = 0.25\n",
    "Вероятность, что студент учится на факультете C: P(A) = 0.5\n",
    "\n",
    "2)\n",
    "Вероятности сдачи сессии студентами: \n",
    "P(A_a)= 0,8\n",
    "P(B_b) = 0,7\n",
    "P(C_c)= 0,9\n",
    "\n",
    "3)\n",
    "Полная вероятность, что сдатут все студенты:\n",
    "P = P(A) * P(A_a) + P(B) * P(B_b) + P(C) * P(C_c)\n",
    "P = 0.25 * 0.8 + 0.25 * 0.7 + 0.5 * 0.9 = 0,825\n",
    "\n",
    "4) \n",
    "Вероятности по формуле Байеса: P (B│A)=(P(A│B)*P(B))/(P(A))\n",
    "\n",
    "Вероятность, что студент учится на факультете A:\n",
    "P(H1) = 0,25 * 0,8 / 0,825 ≈ 0,24 \n",
    "\n",
    "Вероятность, что студент учится на факультете B: \n",
    "P(H2) = 0,25 * 0,7 / 0,825 ≈ 0,21 \n",
    "\n",
    "Вероятность, что студент учится на факультете C: \n",
    "P(H3) = 0,5 * 0,9 / 0,825 ≈ 0,55\n",
    "\n",
    "Проверка: P(H1) + P(H2) + P(H3)= 0,21+0,24+0,55 = 1"
   ]
  },
  {
   "cell_type": "markdown",
   "id": "d82ea3eb",
   "metadata": {},
   "source": [
    "5.\tУстройство состоит из трех деталей. Для первой детали вероятность выйти из строя в первый месяц равна 0.1, для второй - 0.2, для третьей - 0.25. Какова вероятность того, что в первый месяц выйдут из строя: а). все детали б). только две детали в). хотя бы одна деталь г). от одной до двух деталей?"
   ]
  },
  {
   "cell_type": "markdown",
   "id": "9f6c42bb",
   "metadata": {},
   "source": [
    "Вводим базовые независимые события Ai = Детали выйдут в первый месяц из строя, i=1,2,3. \n",
    "По условию так выглядят вероятности: p1=0,1, p2=0,2, p3=0,25. \n",
    "Тогда вероятности противоположных событий: q1=0,9, q2=0,8, q3=0,75.\n",
    "\n",
    "1) Найдем вероятность события X - Все детали вышли из строя по формуле:\n",
    "\n",
    "P(X)=P(A1⋅A2⋅A3)=p1⋅p2⋅p3=0,1⋅0,2⋅0,25=0,005.\n",
    "\n",
    "2) Найдем вероятность события X1 - 2 детали вышли из строя. \n",
    "P(X1)=P(A1)⋅P(A2)⋅P(A3¯)+P(A1)⋅P(A2¯)⋅P(A3)+P(A1¯)⋅P(A2)⋅P(A3)=p1⋅p2⋅q3+p1⋅q2⋅p3+q1⋅p2⋅p3\n",
    "З(Х1)=0,1*0,2*0,75+0,1*0,8*0,25+0,9*0,2*0,25= 0,08\n",
    "\n",
    "3) Сачала найдем вероятность противоположного события \"Ни одна деталь не выйдет из строя (все работают):\n",
    "\n",
    "P0=P(A1¯*А2¯*A3¯)=q1⋅q2⋅q3=0,9*0,8*0,75=0,54 \n",
    "\n",
    "Тогда вероятность того, что выйдет из строя хотя бы одна деталь, равна:\n",
    "\n",
    "1−P0 = 1−0,54= 0,46 \n",
    "\n",
    "4) Будут работать меньше 1 детали и больше двух деталей\n",
    "P(0) и Р(3)\n",
    "1>k>2 \n",
    "n = 3 \n",
    "    \n",
    "P3(1<k<2)=1−P3(1>k>2)=1−(P3(0)+P3(3))=1−(C(0,3)*0,54^0*0,46^3+C(3,3)*0,25^3*0,75^0)=1-(0,097+0,016)=0,887\n",
    "\n"
   ]
  }
 ],
 "metadata": {
  "kernelspec": {
   "display_name": "Python 3 (ipykernel)",
   "language": "python",
   "name": "python3"
  },
  "language_info": {
   "codemirror_mode": {
    "name": "ipython",
    "version": 3
   },
   "file_extension": ".py",
   "mimetype": "text/x-python",
   "name": "python",
   "nbconvert_exporter": "python",
   "pygments_lexer": "ipython3",
   "version": "3.9.12"
  }
 },
 "nbformat": 4,
 "nbformat_minor": 5
}
