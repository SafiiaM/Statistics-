{
 "cells": [
  {
   "cell_type": "markdown",
   "id": "e59f9ca4",
   "metadata": {},
   "source": [
    "Выберите тест и проверьте, есть ли различия между выборками:\n",
    "1.\tДаны две независимые выборки. Не соблюдается условие нормальности\n",
    "x1 380,420, 290\n",
    "y1 140,360,200,900\n",
    "Сделайте вывод по результатам, полученным с помощью функции\n"
   ]
  },
  {
   "cell_type": "markdown",
   "id": "51909449",
   "metadata": {},
   "source": [
    "Проверить гипотезу о том что нет  статистически значимых различий  между выборками.\n",
    "\n",
    "𝐻_0: 𝜇_1= 𝜇_2 (медианы равны)\n",
    "𝐻_1: 𝜇_1≠ 𝜇_2 (медианы не равны)\n",
    "\n",
    "𝜇_1 и  𝜇_2− медианы 1-й и 2-й выборок. \n",
    "\n",
    "У нас 2 независимые выборки и Не соблюдается условие нормальности - используем \n",
    "критерий Манна-Уитни\n",
    "Объединим данные выборок в один ряд и присвоим ранги\n",
    "140, 200, 290, 360, 380, 420, 900\n",
    "1 ,   2,    3,   4,   5,   6,   7\n",
    "сумма рангов первой выборки = 5+6+3=14\n",
    "сумма рангов второй выборки = 1+4+2+7=14 \n",
    "\n",
    "Хотя можно и не перебирать все сочетания , поскольку различий между суммами рангов нет (14=14)\n",
    "Переберем все возможные сочетания рангов для 1-й выборки \n",
    "С_7^3!"
   ]
  },
  {
   "cell_type": "code",
   "execution_count": 1,
   "id": "4ea239d1",
   "metadata": {},
   "outputs": [
    {
     "data": {
      "text/plain": [
       "35.0"
      ]
     },
     "execution_count": 1,
     "metadata": {},
     "output_type": "execute_result"
    }
   ],
   "source": [
    "from math import factorial \n",
    "n=7\n",
    "k=3\n",
    "def C(n,k):\n",
    "    return factorial(n)/(factorial(k)*factorial(n-k))\n",
    "C(7,3)"
   ]
  },
  {
   "cell_type": "markdown",
   "id": "32ada2f0",
   "metadata": {},
   "source": [
    "Выписать все 35 комбинаций (не совсем удобно) и посчитать сумму всех комбинаций рангов, выявить частоту появления той или иной суммы комбинаций\n",
    "Суммы комбинаций по иерархии выстраиваем - какая комбинация реже всего встречается - самая меньшая и самая большая\n",
    "Вычитаем и смотрим что получается "
   ]
  },
  {
   "cell_type": "code",
   "execution_count": 2,
   "id": "cabbed4e",
   "metadata": {},
   "outputs": [
    {
     "data": {
      "text/plain": [
       "1.0"
      ]
     },
     "execution_count": 2,
     "metadata": {},
     "output_type": "execute_result"
    }
   ],
   "source": [
    "rank1=14\n",
    "rank2=14\n",
    "pvalue=rank1/rank2\n",
    "pvalue"
   ]
  },
  {
   "cell_type": "code",
   "execution_count": null,
   "id": "f62ba8cc",
   "metadata": {},
   "outputs": [],
   "source": [
    "Допустим, что α=0.01 \n",
    "pvalue > α, что дает нам право сделать выбор в пользу нулевой гипотезы - нет стат. различий\n"
   ]
  },
  {
   "cell_type": "code",
   "execution_count": 2,
   "id": "ea412676",
   "metadata": {},
   "outputs": [
    {
     "data": {
      "text/plain": [
       "MannwhitneyuResult(statistic=8.0, pvalue=0.6285714285714286)"
      ]
     },
     "execution_count": 2,
     "metadata": {},
     "output_type": "execute_result"
    }
   ],
   "source": [
    "import numpy as np \n",
    "x1=np.array([380,420, 290])\n",
    "y1=np.array([140,360,200,900])\n",
    "import scipy.stats as stats \n",
    "stats.mannwhitneyu(x1,y1)"
   ]
  },
  {
   "cell_type": "code",
   "execution_count": null,
   "id": "16d4a587",
   "metadata": {},
   "outputs": [],
   "source": []
  },
  {
   "cell_type": "markdown",
   "id": "b0592ab7",
   "metadata": {},
   "source": [
    "2.\tИсследовалось влияние препарата на уровень давления пациентов. Сначала измерялось давление до приема препарата, потом через 10 минут и через 30 минут. Есть ли статистически значимые различия?\n",
    "1е измерение до приема препарата: 150, 160, 165, 145, 155\n",
    "2е измерение через 10 минут: 140, 155, 150, 130, 135\n",
    "3е измерение через 30 минут: 130, 130, 120, 130, 125\n"
   ]
  },
  {
   "cell_type": "code",
   "execution_count": null,
   "id": "a8e1bcbd",
   "metadata": {},
   "outputs": [],
   "source": [
    "Выборки зависимые, больше двух - используем критерий Фридмана \n",
    "1. Сначала назначаются ранги по каждому пациенту. Т.е. если у нас три раза брались измерения у одних и тех же пациентов, \n",
    "то для каждого пациента будут измерения с рангами от 1 до 3. \n",
    "2. Затем находим сумму рангов по выборкам. Не по пациентам, обратите внимание, а по выборкам. \n",
    "3. Теперь нужно найти средний ранг ▁R\n",
    "▁R=(n*(k+1))/2,где n-объем выборки,k-число сравниваемых групп\n",
    "4. И последним действием производим расчет критерия Фридмана по формуле:\n",
    "χ_r^2=12/(n*k*(k+1))*∑ 〖〖(R〗_i-▁R)〗^2, где R_i – сумма рангов по подгруппам\n"
   ]
  },
  {
   "cell_type": "code",
   "execution_count": 5,
   "id": "07f51a4b",
   "metadata": {},
   "outputs": [
    {
     "data": {
      "text/plain": [
       "10.0"
      ]
     },
     "execution_count": 5,
     "metadata": {},
     "output_type": "execute_result"
    }
   ],
   "source": [
    "n=5\n",
    "k=3\n",
    "R=(5*(3+1))/2 # средний ранг\n",
    "R"
   ]
  },
  {
   "cell_type": "markdown",
   "id": "98590e47",
   "metadata": {},
   "source": [
    "Рисуем таблицу, присваиваем ранги и считаем сумму рангов по каждой группе \n",
    "R1=15\n",
    "R2=9,5\n",
    "R3=5,5\n",
    "\n",
    "Пациент\tДо приема препарата\tчерез 10 минут\tчерез 30 минут\n",
    "\tзначение\tранг\tзначение\tранг\tзначение\tранг\n",
    "1\t150\t         3\t        140\t     2\t     130\t     1\n",
    "2\t160\t         3\t        155\t     2\t     130\t     1\n",
    "3\t165\t         3\t        150\t     2\t     120\t     1\n",
    "4\t145\t         3\t        130\t     1,5  \t 130\t     1,5\n",
    "5\t155\t         3\t        135\t     2\t     125\t     1\n",
    "\t\t        ∑=15\t\t      ∑=9,5\t\t            ∑=5,5\n"
   ]
  },
  {
   "cell_type": "code",
   "execution_count": 13,
   "id": "7b98d429",
   "metadata": {},
   "outputs": [
    {
     "data": {
      "text/plain": [
       "9.1"
      ]
     },
     "execution_count": 13,
     "metadata": {},
     "output_type": "execute_result"
    }
   ],
   "source": [
    "(12/(5*3*(3+1)))*((15-10)**2+(9.5-10)**2+(5.5-10)**2)"
   ]
  },
  {
   "cell_type": "code",
   "execution_count": 10,
   "id": "cb3f6ea9",
   "metadata": {},
   "outputs": [
    {
     "data": {
      "text/plain": [
       "FriedmanchisquareResult(statistic=9.578947368421062, pvalue=0.00831683351100441)"
      ]
     },
     "execution_count": 10,
     "metadata": {},
     "output_type": "execute_result"
    }
   ],
   "source": [
    "A= np.array([150, 160, 165, 145, 155])\n",
    "B= np.array([140, 155, 150, 130, 135])\n",
    "C= np.array([130, 130, 120, 130, 125])\n",
    "stats.friedmanchisquare(A,B,C)"
   ]
  },
  {
   "cell_type": "code",
   "execution_count": null,
   "id": "f3b4d7b2",
   "metadata": {},
   "outputs": [],
   "source": [
    "Допустим, что α=0.01\n",
    "pvalue=0.00831683351100441 > α, что дает нам право сделать выбор в пользу нулевой гипотезы - нет стат. различий"
   ]
  },
  {
   "cell_type": "code",
   "execution_count": null,
   "id": "4625e448",
   "metadata": {},
   "outputs": [],
   "source": []
  },
  {
   "cell_type": "markdown",
   "id": "1661e5fc",
   "metadata": {},
   "source": [
    "3.\tСравните 1 и 2 е измерения, предполагая, что 3го измерения через 30 минут не было.\n",
    "\n",
    "2 выборки, зависимые - используем критерий Уилкоксона \n"
   ]
  },
  {
   "cell_type": "code",
   "execution_count": 5,
   "id": "05a80d30",
   "metadata": {},
   "outputs": [
    {
     "data": {
      "text/plain": [
       "array([-10,  -5, -15, -15, -20])"
      ]
     },
     "execution_count": 5,
     "metadata": {},
     "output_type": "execute_result"
    }
   ],
   "source": [
    "A= np.array([150, 160, 165, 145, 155])\n",
    "B= np.array([140, 155, 150, 130, 135])\n",
    "B-A"
   ]
  },
  {
   "cell_type": "markdown",
   "id": "dd65c36e",
   "metadata": {},
   "source": [
    "Присвоим ранги по абсолютной величине \n",
    "-10,  -5, -15, -15, -20\n",
    "2    1    3,5  3,5  5  \n",
    "У нас получились только отрицательные значения разностей (интенсивность сдвигов в одну сторону больше) \n",
    "\n",
    "Примем уровень стат значимости α=0.01"
   ]
  },
  {
   "cell_type": "code",
   "execution_count": 4,
   "id": "7830a112",
   "metadata": {},
   "outputs": [
    {
     "data": {
      "text/plain": [
       "WilcoxonResult(statistic=0.0, pvalue=0.0625)"
      ]
     },
     "execution_count": 4,
     "metadata": {},
     "output_type": "execute_result"
    }
   ],
   "source": [
    "stats.wilcoxon(A, B)"
   ]
  },
  {
   "cell_type": "code",
   "execution_count": null,
   "id": "01252571",
   "metadata": {},
   "outputs": [],
   "source": [
    "Можем сделать вывод в пользу нулевой гипотезы - pvalue=0.0625 > α"
   ]
  },
  {
   "cell_type": "code",
   "execution_count": null,
   "id": "94b73cb8",
   "metadata": {},
   "outputs": [],
   "source": [
    "\n"
   ]
  },
  {
   "cell_type": "markdown",
   "id": "dc4b7b36",
   "metadata": {},
   "source": [
    "4.\tДаны 3 группы учеников плавания.\n",
    "В 1 группе время на дистанцию 50 м составляют:56, 60, 62, 55, 71, 67, 59, 58, 64, 67\n",
    "Вторая группа : 57, 58, 69, 48, 72, 70, 68, 71, 50, 53\n",
    "Третья группа: 57, 67, 49, 48, 47, 55, 66, 51, 54\n"
   ]
  },
  {
   "cell_type": "markdown",
   "id": "22d6040b",
   "metadata": {},
   "source": [
    "Независимые выборки и более 2 – используем критерий Крускала Уоллеса \n",
    "\n",
    "Чтобы рассчитать критерий Крускала-Уоллиса  делаем следующее:\n",
    "\tОбобщим все данные в один ряд\n",
    "\tПрисвоим ранги в этом ряду\n",
    "\tПосчитаем сумму рангов, присвоенных в общем ряду, но теперь уже в отдельных группах. \n",
    "    Т.е. получим сумму рангов для каждой отдельной группы.\n",
    "\tВоспользуемся формулой:\n",
    "H=  12/(N*(N+1) )*∑_(i=1)^(k_j)  〖T_j〗^2/n_j -3(N+1), \n",
    "где N – общее число  измерений во всех сравниваемых выборках,\n",
    "k_j- объем j-ой выборки \n",
    "T_j- сумма рангов в каждой выборке.\n"
   ]
  },
  {
   "cell_type": "code",
   "execution_count": 17,
   "id": "6c28114e",
   "metadata": {},
   "outputs": [
    {
     "data": {
      "text/plain": [
       "([55, 56, 58, 59, 60, 62, 64, 67, 67, 71],\n",
       " [48, 50, 53, 57, 58, 68, 69, 70, 71, 72],\n",
       " [47, 48, 49, 51, 54, 55, 57, 66, 67])"
      ]
     },
     "execution_count": 17,
     "metadata": {},
     "output_type": "execute_result"
    }
   ],
   "source": [
    "x=np.array([56, 60, 62, 55, 71, 67, 59, 58, 64, 67])\n",
    "y=np.array([57, 58, 69, 48, 72, 70, 68, 71, 50, 53])\n",
    "z=np.array([57, 67, 49, 48, 47, 55, 66, 51, 54])\n",
    "m=sorted(x),sorted(y),sorted(z)\n",
    "m"
   ]
  },
  {
   "cell_type": "code",
   "execution_count": 25,
   "id": "794504c4",
   "metadata": {},
   "outputs": [
    {
     "data": {
      "text/plain": [
       "178.5"
      ]
     },
     "execution_count": 25,
     "metadata": {},
     "output_type": "execute_result"
    }
   ],
   "source": [
    "T1= 11+17+18+9.5+27.5+23+16+14.5+19+23\n",
    "T1\n",
    "\n"
   ]
  },
  {
   "cell_type": "code",
   "execution_count": 26,
   "id": "6b2a4a85",
   "metadata": {},
   "outputs": [
    {
     "data": {
      "text/plain": [
       "173.0"
      ]
     },
     "execution_count": 26,
     "metadata": {},
     "output_type": "execute_result"
    }
   ],
   "source": [
    "T2= 12.5+ 14.5+25+2.5+29+26+24+27.5+5+7\n",
    "T2"
   ]
  },
  {
   "cell_type": "code",
   "execution_count": 27,
   "id": "af69435c",
   "metadata": {},
   "outputs": [
    {
     "data": {
      "text/plain": [
       "86.5"
      ]
     },
     "execution_count": 27,
     "metadata": {},
     "output_type": "execute_result"
    }
   ],
   "source": [
    "T3= 12.5+23+4+2.5+1+9.5+20+6+8\n",
    "T3\n"
   ]
  },
  {
   "cell_type": "code",
   "execution_count": 28,
   "id": "4a6f2385",
   "metadata": {},
   "outputs": [
    {
     "data": {
      "text/plain": [
       "6.696360153256705"
      ]
     },
     "execution_count": 28,
     "metadata": {},
     "output_type": "execute_result"
    }
   ],
   "source": [
    "(12/(29*(29+1))*((178.5**2/10)+(173**2/10)+(86.5**2/9))-3*(29+1))"
   ]
  },
  {
   "cell_type": "code",
   "execution_count": 29,
   "id": "de0546c7",
   "metadata": {},
   "outputs": [
    {
     "data": {
      "text/plain": [
       "KruskalResult(statistic=5.465564058257224, pvalue=0.0650380998590494)"
      ]
     },
     "execution_count": 29,
     "metadata": {},
     "output_type": "execute_result"
    }
   ],
   "source": [
    "stats.kruskal(x, y, z)"
   ]
  },
  {
   "cell_type": "code",
   "execution_count": null,
   "id": "8785fff9",
   "metadata": {},
   "outputs": [],
   "source": [
    "Примем уровень стат значимости α=0.05\n",
    "Можем сделать вывод в пользу нулевой гипотезы - pvalue=0.065 > α"
   ]
  },
  {
   "cell_type": "code",
   "execution_count": null,
   "id": "e50deb52",
   "metadata": {},
   "outputs": [],
   "source": []
  },
  {
   "cell_type": "markdown",
   "id": "073ca881",
   "metadata": {},
   "source": [
    "5.\tЗаявляется, что партия изготавливается со средним арифметическим 2,5 см. Проверить данную гипотезу, если известно, что размеры изделий подчинены нормальному закону распределения. Объем выборки 10, уровень статистической значимости 5%\n",
    "2.51, 2.35, 2.74, 2.56, 2.40, 2.36, 2.65, 2.7, 2.67, 2.34\n",
    "\n"
   ]
  },
  {
   "cell_type": "markdown",
   "id": "f372ff2a",
   "metadata": {},
   "source": [
    "Сигма генеральной совокупности не известна, применяем критерий Стьюдента "
   ]
  },
  {
   "cell_type": "code",
   "execution_count": null,
   "id": "4462fd6f",
   "metadata": {},
   "outputs": [],
   "source": [
    "t_н=(X ̅-μ)/(σ_н/√n)\n",
    "n=10\n",
    "уровень стат значимости α=0.05\n",
    "x=np.array([2.51, 2.35, 2.74, 2.56, 2.40, 2.36, 2.65, 2.7, 2.67, 2.34])\n",
    "количество степеней свободы n-1= 9\n",
    "μ=2.5\n",
    "\n",
    "по таблице  найдем табличное значение для α = 5% (p=95%) . \n",
    "Табличное значение будет равно t_н=1,833. "
   ]
  },
  {
   "cell_type": "code",
   "execution_count": 30,
   "id": "920a5c51",
   "metadata": {},
   "outputs": [
    {
     "data": {
      "text/plain": [
       "2.5279999999999996"
      ]
     },
     "execution_count": 30,
     "metadata": {},
     "output_type": "execute_result"
    }
   ],
   "source": [
    "import numpy as np\n",
    "from scipy import stats\n",
    "x=np.array([2.51, 2.35, 2.74, 2.56, 2.40, 2.36, 2.65, 2.7, 2.67, 2.34])\n",
    "np.mean(x)"
   ]
  },
  {
   "cell_type": "code",
   "execution_count": 48,
   "id": "ff760329",
   "metadata": {},
   "outputs": [
    {
     "data": {
      "text/plain": [
       "0.1572542173961923"
      ]
     },
     "execution_count": 48,
     "metadata": {},
     "output_type": "execute_result"
    }
   ],
   "source": [
    "np.std(x,ddof=1)"
   ]
  },
  {
   "cell_type": "code",
   "execution_count": 32,
   "id": "2c53148f",
   "metadata": {},
   "outputs": [
    {
     "data": {
      "text/plain": [
       "10"
      ]
     },
     "execution_count": 32,
     "metadata": {},
     "output_type": "execute_result"
    }
   ],
   "source": [
    "len(x)"
   ]
  },
  {
   "cell_type": "code",
   "execution_count": 52,
   "id": "9daabec7",
   "metadata": {},
   "outputs": [
    {
     "data": {
      "text/plain": [
       "0.5929270612815672"
      ]
     },
     "execution_count": 52,
     "metadata": {},
     "output_type": "execute_result"
    }
   ],
   "source": [
    "t=(2.53-2.5)/(0.16/np.sqrt(10))\n",
    "t"
   ]
  },
  {
   "cell_type": "code",
   "execution_count": 50,
   "id": "0ff7fc64",
   "metadata": {},
   "outputs": [
    {
     "data": {
      "text/plain": [
       "Ttest_1sampResult(statistic=0.5630613661802959, pvalue=0.5871439993940628)"
      ]
     },
     "execution_count": 50,
     "metadata": {},
     "output_type": "execute_result"
    }
   ],
   "source": [
    "stats.ttest_1samp(x,2.5)"
   ]
  },
  {
   "cell_type": "markdown",
   "id": "f28ee366",
   "metadata": {},
   "source": [
    "pvalue=0.5871439993940628 > α = 5%\n",
    "принимаем нулевую гипотезу "
   ]
  },
  {
   "cell_type": "code",
   "execution_count": null,
   "id": "58d3f52f",
   "metadata": {},
   "outputs": [],
   "source": []
  },
  {
   "cell_type": "code",
   "execution_count": null,
   "id": "3b773de0",
   "metadata": {},
   "outputs": [],
   "source": []
  },
  {
   "cell_type": "code",
   "execution_count": null,
   "id": "61b98dbe",
   "metadata": {},
   "outputs": [],
   "source": []
  },
  {
   "cell_type": "code",
   "execution_count": null,
   "id": "2a9f6943",
   "metadata": {},
   "outputs": [],
   "source": []
  }
 ],
 "metadata": {
  "kernelspec": {
   "display_name": "Python 3 (ipykernel)",
   "language": "python",
   "name": "python3"
  },
  "language_info": {
   "codemirror_mode": {
    "name": "ipython",
    "version": 3
   },
   "file_extension": ".py",
   "mimetype": "text/x-python",
   "name": "python",
   "nbconvert_exporter": "python",
   "pygments_lexer": "ipython3",
   "version": "3.9.12"
  }
 },
 "nbformat": 4,
 "nbformat_minor": 5
}
