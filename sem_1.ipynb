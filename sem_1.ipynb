{
 "cells": [
  {
   "cell_type": "code",
   "execution_count": 1,
   "id": "d9b11e50-14f4-407b-97a7-d5d43eb6b73c",
   "metadata": {},
   "outputs": [],
   "source": [
    "from math import factorial"
   ]
  },
  {
   "cell_type": "code",
   "execution_count": 2,
   "id": "c7c59f2e-4ec2-4559-9ab6-347acb4a6f52",
   "metadata": {},
   "outputs": [
    {
     "data": {
      "text/plain": [
       "3628800"
      ]
     },
     "execution_count": 2,
     "metadata": {},
     "output_type": "execute_result"
    }
   ],
   "source": [
    "factorial(10)"
   ]
  },
  {
   "cell_type": "code",
   "execution_count": 3,
   "id": "88703acf-44d9-496a-9635-dc4ba36b522b",
   "metadata": {},
   "outputs": [],
   "source": [
    "from random import randint"
   ]
  },
  {
   "cell_type": "code",
   "execution_count": 22,
   "id": "aa130e9c-9b5b-4f64-9889-add0c618dff0",
   "metadata": {},
   "outputs": [],
   "source": [
    "list_of_tries = [randint(0, 1) for i in range(1000000)]"
   ]
  },
  {
   "cell_type": "code",
   "execution_count": 23,
   "id": "a313ec18-9493-4552-ab59-7a455928f28e",
   "metadata": {},
   "outputs": [
    {
     "data": {
      "text/plain": [
       "0.500608"
      ]
     },
     "execution_count": 23,
     "metadata": {},
     "output_type": "execute_result"
    }
   ],
   "source": [
    "sum(list_of_tries)/len(list_of_tries)"
   ]
  },
  {
   "cell_type": "code",
   "execution_count": 28,
   "id": "39c94056-ae62-4eda-a18c-e9345f8d94cd",
   "metadata": {},
   "outputs": [],
   "source": [
    "N_all = factorial(10)/(factorial(5)*factorial(5))"
   ]
  },
  {
   "cell_type": "code",
   "execution_count": 29,
   "id": "51e65d3d-e3b5-4805-9b0d-1207a68b0f04",
   "metadata": {},
   "outputs": [],
   "source": [
    "N_good = factorial(7)/(factorial(4)*factorial(3))"
   ]
  },
  {
   "cell_type": "code",
   "execution_count": 30,
   "id": "c61c32a2-07c5-4a02-94d7-bea126ab3367",
   "metadata": {},
   "outputs": [],
   "source": [
    "N_bad = factorial(3)/(factorial(1)*factorial(2))"
   ]
  },
  {
   "cell_type": "code",
   "execution_count": 31,
   "id": "48e2da82-dc3f-40c7-9bbc-d466fdbcb853",
   "metadata": {},
   "outputs": [
    {
     "data": {
      "text/plain": [
       "0.4166666666666667"
      ]
     },
     "execution_count": 31,
     "metadata": {},
     "output_type": "execute_result"
    }
   ],
   "source": [
    "N_good * N_bad / N_all"
   ]
  },
  {
   "cell_type": "markdown",
   "id": "610ef3bc-dc71-4870-afc0-862d753b2792",
   "metadata": {},
   "source": [
    "Функции для вычисления"
   ]
  },
  {
   "cell_type": "code",
   "execution_count": 43,
   "id": "f26cd5b6-4560-4f6c-98c0-375fb322f2a9",
   "metadata": {},
   "outputs": [],
   "source": [
    "def N(n):\n",
    "    return factorial(n)"
   ]
  },
  {
   "cell_type": "code",
   "execution_count": 44,
   "id": "b2e0b7f3-8bef-4d13-96a8-213e19ca09cb",
   "metadata": {},
   "outputs": [],
   "source": [
    "def A(n, k):\n",
    "    return factorial(n)/factorial(n-k)"
   ]
  },
  {
   "cell_type": "code",
   "execution_count": 45,
   "id": "602a2c24-49c5-4f9b-a997-360b1a5a78db",
   "metadata": {},
   "outputs": [],
   "source": [
    "def C(n, k):\n",
    "    return factorial(n)/(factorial(k)*factorial(n-k))"
   ]
  },
  {
   "cell_type": "code",
   "execution_count": 40,
   "id": "5649a452-f96f-46f1-8e4f-58007d543b83",
   "metadata": {},
   "outputs": [],
   "source": [
    "sol = C(7, 4) * C(3, 1) / C(10, 5)"
   ]
  },
  {
   "cell_type": "code",
   "execution_count": 41,
   "id": "0b407abb-f46b-449c-bfef-24673a696560",
   "metadata": {},
   "outputs": [
    {
     "data": {
      "text/plain": [
       "0.4166666666666667"
      ]
     },
     "execution_count": 41,
     "metadata": {},
     "output_type": "execute_result"
    }
   ],
   "source": [
    "sol"
   ]
  },
  {
   "cell_type": "code",
   "execution_count": 42,
   "id": "a542a3cc-b8ee-41f0-973b-7f3d8fde426b",
   "metadata": {},
   "outputs": [
    {
     "data": {
      "text/plain": [
       "0.15479876160990713"
      ]
     },
     "execution_count": 42,
     "metadata": {},
     "output_type": "execute_result"
    }
   ],
   "source": [
    "N_good = C(10, 3) * C(5, 2) * C(5, 1)\n",
    "N = C(20, 6)\n",
    "N_good/N"
   ]
  },
  {
   "cell_type": "code",
   "execution_count": null,
   "id": "3d8152f7-bccc-4a38-a182-93e1fb6f8b6d",
   "metadata": {},
   "outputs": [],
   "source": []
  }
 ],
 "metadata": {
  "kernelspec": {
   "display_name": "Python 3",
   "language": "python",
   "name": "python3"
  },
  "language_info": {
   "codemirror_mode": {
    "name": "ipython",
    "version": 3
   },
   "file_extension": ".py",
   "mimetype": "text/x-python",
   "name": "python",
   "nbconvert_exporter": "python",
   "pygments_lexer": "ipython3",
   "version": "3.11.0rc2 (main, Sep 11 2022, 20:22:52) [MSC v.1933 64 bit (AMD64)]"
  },
  "vscode": {
   "interpreter": {
    "hash": "5238573367df39f7286bb46f9ff5f08f63a01a80960060ce41e3c79b190280fa"
   }
  }
 },
 "nbformat": 4,
 "nbformat_minor": 5
}
