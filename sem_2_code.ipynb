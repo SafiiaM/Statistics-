{
 "cells": [
  {
   "cell_type": "code",
   "execution_count": null,
   "id": "5303f612-25b5-4c69-9bf0-a783de35f747",
   "metadata": {},
   "outputs": [
    {
     "ename": "",
     "evalue": "",
     "output_type": "error",
     "traceback": [
      "\u001b[1;31mRunning cells with 'c:\\Program Files\\Python311\\python.exe' requires ipykernel package.\n",
      "\u001b[1;31mRun the following command to install 'ipykernel' into the Python environment. \n",
      "\u001b[1;31mCommand: '\"c:/Program Files/Python311/python.exe\" -m pip install ipykernel -U --user --force-reinstall'"
     ]
    }
   ],
   "source": [
    "from scipy.stats import poisson, binom"
   ]
  },
  {
   "cell_type": "code",
   "execution_count": 3,
   "id": "307ee449-d00d-44b1-b905-260aabb0c19a",
   "metadata": {},
   "outputs": [
    {
     "data": {
      "text/plain": [
       "0.22404180765538778"
      ]
     },
     "execution_count": 3,
     "metadata": {},
     "output_type": "execute_result"
    }
   ],
   "source": [
    "import math\n",
    "n = 2000\n",
    "p = 0.0015\n",
    "m = 3\n",
    "l = n * p\n",
    "((l **m) / (math.factorial(m))) * math.e **(-l)"
   ]
  },
  {
   "cell_type": "code",
   "execution_count": 7,
   "id": "860f57e8-05d2-464f-bc20-c4762bb0f1d9",
   "metadata": {},
   "outputs": [
    {
     "data": {
      "text/plain": [
       "0.22404180765538775"
      ]
     },
     "execution_count": 7,
     "metadata": {},
     "output_type": "execute_result"
    }
   ],
   "source": [
    "poisson.pmf(k=3, mu=l)"
   ]
  },
  {
   "cell_type": "code",
   "execution_count": 8,
   "id": "edd5d227-0cd3-4772-b53d-06445296bdf5",
   "metadata": {},
   "outputs": [],
   "source": [
    "# задача 4"
   ]
  },
  {
   "cell_type": "code",
   "execution_count": 15,
   "id": "d6ece3f3-b192-45ea-8412-984e2dcbb500",
   "metadata": {},
   "outputs": [],
   "source": [
    "def C(n, k):\n",
    "    return math.factorial(n) / math.factorial(k) / math.factorial(n-k)"
   ]
  },
  {
   "cell_type": "code",
   "execution_count": 16,
   "id": "8cdc419d-43be-45c9-b11b-fc7d5b6599d0",
   "metadata": {},
   "outputs": [],
   "source": [
    "p1 = C(4, 1) * 1/16"
   ]
  },
  {
   "cell_type": "code",
   "execution_count": 17,
   "id": "0243142f-7af9-4411-8066-b813918a27d8",
   "metadata": {},
   "outputs": [],
   "source": [
    "p2 = C(4, 0) * 1/16"
   ]
  },
  {
   "cell_type": "code",
   "execution_count": 18,
   "id": "4a2f834b-876c-4bfd-b107-55a31fd331e6",
   "metadata": {},
   "outputs": [
    {
     "data": {
      "text/plain": [
       "0.3125"
      ]
     },
     "execution_count": 18,
     "metadata": {},
     "output_type": "execute_result"
    }
   ],
   "source": [
    "p1 + p2"
   ]
  },
  {
   "cell_type": "code",
   "execution_count": 20,
   "id": "a8d3197c-a64e-46e5-8d87-d43d27f4b81b",
   "metadata": {},
   "outputs": [
    {
     "data": {
      "text/plain": [
       "0.008100000000000003"
      ]
     },
     "execution_count": 20,
     "metadata": {},
     "output_type": "execute_result"
    }
   ],
   "source": [
    "C(5, 2) * 0.9**2 * 0.1**3"
   ]
  },
  {
   "cell_type": "code",
   "execution_count": 29,
   "id": "0aa6eb9d-9db6-482f-a809-cf381e301520",
   "metadata": {},
   "outputs": [
    {
     "data": {
      "text/plain": [
       "0.008099999999999996"
      ]
     },
     "execution_count": 29,
     "metadata": {},
     "output_type": "execute_result"
    }
   ],
   "source": [
    "binom.pmf(2, 5, 0.9)"
   ]
  },
  {
   "cell_type": "code",
   "execution_count": null,
   "id": "36c0e918-266a-4e1d-a87b-9672158ab94a",
   "metadata": {},
   "outputs": [],
   "source": []
  }
 ],
 "metadata": {
  "kernelspec": {
   "display_name": "Python 3",
   "language": "python",
   "name": "python3"
  },
  "language_info": {
   "codemirror_mode": {
    "name": "ipython",
    "version": 3
   },
   "file_extension": ".py",
   "mimetype": "text/x-python",
   "name": "python",
   "nbconvert_exporter": "python",
   "pygments_lexer": "ipython3",
   "version": "3.11.0rc2 (main, Sep 11 2022, 20:22:52) [MSC v.1933 64 bit (AMD64)]"
  },
  "vscode": {
   "interpreter": {
    "hash": "5238573367df39f7286bb46f9ff5f08f63a01a80960060ce41e3c79b190280fa"
   }
  }
 },
 "nbformat": 4,
 "nbformat_minor": 5
}
