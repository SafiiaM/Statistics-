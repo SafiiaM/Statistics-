{
 "cells": [
  {
   "cell_type": "markdown",
   "id": "4ca0cc29",
   "metadata": {},
   "source": [
    "1) Когда используется критерий Стьюдента, а когда Z –критерий? "
   ]
  },
  {
   "cell_type": "markdown",
   "id": "25a45bcd",
   "metadata": {},
   "source": [
    "Z-критерий используется, если известна дисперсия у генеральной совокупности. Если дисперсия неизвестна, то применяем t-критерий или критерий Стьюдента.  Оба критерия являются параметрическими. Суть теста всегда сводится к нахождению расчетного значения и сравнения его с табличным в соответствии с выбранным уровнем значимости альфа α, который задается самостоятельно. Формулы для расчета почти одинаковые , у критерия Стьюдента берется только несмещенное стандартное отклонение:\n",
    "\n",
    "𝑍_н=(𝑋 ̅−μ)/(𝞼/√𝑛)                        𝑡_н=(𝑋 ̅−μ)/(𝞼_н/√𝑛)\n",
    "\n",
    "\n"
   ]
  },
  {
   "cell_type": "markdown",
   "id": "e2d928f1",
   "metadata": {},
   "source": [
    "2) Проведите тест гипотезы. Утверждается, что шарики для подшипников, изготовленные автоматическим станком, имеют средний диаметр 17 мм. Используя односторонний критерий с α=0,05, проверить эту гипотезу, если в выборке из n=100 шариков средний диаметр оказался равным 17.5 мм, а дисперсия известна и равна 4 кв. мм. "
   ]
  },
  {
   "cell_type": "markdown",
   "id": "eb5a8973",
   "metadata": {},
   "source": [
    "# У нас известна дисперсия, значит применяем Z-критерий \n",
    "\n",
    "α=0,05\n",
    "\n",
    "Н0 μ=17 мм\n",
    "D = 4мм2\n",
    "n = 100    \n",
    "\n",
    "Н1 μ=17,5 мм\n",
    "\n",
    "Найдем среднее квадратичное отклонение"
   ]
  },
  {
   "cell_type": "code",
   "execution_count": 1,
   "id": "60c6dfac",
   "metadata": {},
   "outputs": [
    {
     "data": {
      "text/plain": [
       "2.0"
      ]
     },
     "execution_count": 1,
     "metadata": {},
     "output_type": "execute_result"
    }
   ],
   "source": [
    "from math import sqrt\n",
    "D = 4\n",
    "𝞼 = sqrt (D)\n",
    "𝞼"
   ]
  },
  {
   "cell_type": "code",
   "execution_count": 3,
   "id": "46a49930",
   "metadata": {},
   "outputs": [
    {
     "data": {
      "text/plain": [
       "2.5"
      ]
     },
     "execution_count": 3,
     "metadata": {},
     "output_type": "execute_result"
    }
   ],
   "source": [
    "Z= (17.5-17)/(2/sqrt(100))\n",
    "Z"
   ]
  },
  {
   "cell_type": "code",
   "execution_count": null,
   "id": "34e878ae",
   "metadata": {},
   "outputs": [],
   "source": [
    "Табличное значение Z = -1,64 (α=0,05)\n",
    "Расчетное значение Z = 2.5 лежит правее табличного и не попадает в нулевую гипотезу, мы отвергаем Н0"
   ]
  },
  {
   "cell_type": "code",
   "execution_count": 2,
   "id": "c92703d1",
   "metadata": {},
   "outputs": [
    {
     "data": {
      "text/plain": [
       "20.289707253902943"
      ]
     },
     "execution_count": 2,
     "metadata": {},
     "output_type": "execute_result"
    }
   ],
   "source": [
    "import numpy as np \n",
    "from scipy import stats \n",
    "stats.norm.ppf(1 - 0.05, 17, 2)     \n",
    "    "
   ]
  },
  {
   "cell_type": "markdown",
   "id": "2b5dab8a",
   "metadata": {},
   "source": [
    "3)Проведите тест гипотезы. Продавец утверждает, что средний вес пачки печенья составляет 200 г. \n",
    "Из партии извлечена выборка из 10 пачек. \n",
    "Вес каждой пачки составляет: 202, 203, 199, 197, 195, 201, 200, 204, 194, 190. \n",
    "Известно, что их веса распределены нормально. \n",
    "Верно ли утверждение продавца, если учитывать, что доверительная вероятность равна 99%? (Провести двусторонний тест.)"
   ]
  },
  {
   "cell_type": "code",
   "execution_count": null,
   "id": "4bba8dc5",
   "metadata": {},
   "outputs": [],
   "source": [
    "Формируем гипотезы:\n",
    "Н0 - средний вес пачки печенья составляет 200 г.\n",
    "Н1 - средний вес пачки печенья не равен 200 г. μ ≠μ0 (необходимо провести двусторонний тест)\n",
    "Определяем уровень значимости альфа α = 99% \n",
    "Дисперсия не известна, поэтому выбираем T-критерий\n",
    "𝑡_н=(𝑋 ̅−μ)/(𝞼_н/√𝑛)\n",
    "n=10\n",
    "x = np.array([202, 203, 199, 197, 195, 201, 200, 204, 194, 190])\n"
   ]
  },
  {
   "cell_type": "markdown",
   "id": "b94b75bb",
   "metadata": {},
   "source": [
    "### 9 - степень свободы = n-1- по таблице Стьюдента табличное значение 3,250 при доверительной вероятности 99% (или 0,99) \n",
    "Если у нас тест двусторонний, то уровень статистической значимости α делится пополам.\n"
   ]
  },
  {
   "cell_type": "code",
   "execution_count": 4,
   "id": "68aec5bc",
   "metadata": {},
   "outputs": [
    {
     "name": "stdout",
     "output_type": "stream",
     "text": [
      "𝜎 = 4.453463071962462\n",
      "198.5\n"
     ]
    }
   ],
   "source": [
    "x = np.array([202, 203, 199, 197, 195, 201, 200, 204, 194, 190])\n",
    "μ = x.mean()\n",
    "n = 10\n",
    "sigma = np.sqrt(((x - μ)**2).sum()/(n-1))\n",
    "print ('𝜎 =', sigma)\n",
    "print (μ)"
   ]
  },
  {
   "cell_type": "code",
   "execution_count": 42,
   "id": "f3d958a7",
   "metadata": {},
   "outputs": [
    {
     "data": {
      "text/plain": [
       "1.0659362899443976"
      ]
     },
     "execution_count": 42,
     "metadata": {},
     "output_type": "execute_result"
    }
   ],
   "source": [
    "Tн=(x-μ)/(𝞼_н/sqrt(n))\n",
    "Tн"
   ]
  },
  {
   "cell_type": "code",
   "execution_count": 5,
   "id": "6e17a1eb",
   "metadata": {},
   "outputs": [
    {
     "data": {
      "text/plain": [
       "0.9950013154579892"
      ]
     },
     "execution_count": 5,
     "metadata": {},
     "output_type": "execute_result"
    }
   ],
   "source": [
    "# Проверим, что коэффицент Стьюдента = 3.250, соответствует вероятности =\n",
    "\n",
    "t = stats.t(n-1)\n",
    "t.cdf(3.250)"
   ]
  },
  {
   "cell_type": "code",
   "execution_count": 52,
   "id": "b995aa5d",
   "metadata": {},
   "outputs": [
    {
     "data": {
      "text/plain": [
       "-1.0659362899443976"
      ]
     },
     "execution_count": 52,
     "metadata": {},
     "output_type": "execute_result"
    }
   ],
   "source": [
    "t=(198.5 - 200)/(4.45/np.sqrt(n))\n",
    "t"
   ]
  },
  {
   "cell_type": "code",
   "execution_count": null,
   "id": "dcd5a184",
   "metadata": {},
   "outputs": [],
   "source": [
    "мы принимаем гипотезу H0\n",
    "pvalue > α"
   ]
  },
  {
   "cell_type": "code",
   "execution_count": 6,
   "id": "4e8d8738",
   "metadata": {},
   "outputs": [
    {
     "data": {
      "text/plain": [
       "Ttest_1sampResult(statistic=133.84849707063293, pvalue=3.685165845827127e-16)"
      ]
     },
     "execution_count": 6,
     "metadata": {},
     "output_type": "execute_result"
    }
   ],
   "source": [
    "stats.ttest_1samp(x,10)"
   ]
  },
  {
   "cell_type": "markdown",
   "id": "5bcb33e5",
   "metadata": {},
   "source": [
    "Задачу 4 решать с помощью функции. Есть ли статистически значимые различия в росте дочерей?\n",
    "4) Рост матерей 172, 177, 158, 170, 178,175, 164, 160, 169\n",
    "Рост взрослых дочерей: 173, 175, 162, 174, 175, 168, 155, 170, 160\n"
   ]
  },
  {
   "cell_type": "markdown",
   "id": "0f3c26b2",
   "metadata": {},
   "source": [
    "Нулевая гипотеза - внесение коррективов ничего не поменяет, то есть сравниваемые объекты равнозначны в своих свойствах и нет смысла что-либо менять. \n",
    "H0 - рост матерей нормальный, нет смысла ничего менять\n",
    "\n",
    "Альтернативная гипотеза состоит в опровержении нулевой гипотезы. \n",
    "Н1 - рост дочерей показывает себя лучше"
   ]
  },
  {
   "cell_type": "code",
   "execution_count": 58,
   "id": "8b368554",
   "metadata": {},
   "outputs": [
    {
     "data": {
      "text/plain": [
       "Ttest_relResult(statistic=0.559522990335608, pvalue=0.5911212354055175)"
      ]
     },
     "execution_count": 58,
     "metadata": {},
     "output_type": "execute_result"
    }
   ],
   "source": [
    "m = np.array([172, 177, 158, 170, 178,175, 164, 160, 169])\n",
    "d = np.array([173, 175, 162, 174, 175, 168, 155, 170, 160])\n",
    "stats.ttest_rel(m,d)"
   ]
  },
  {
   "cell_type": "markdown",
   "id": "64c376d4",
   "metadata": {},
   "source": [
    "Зададим критерий значимости - α=0,05 (5%)\n",
    "Дисперсия не известна, применяем критерий Стьюдента \n"
   ]
  },
  {
   "cell_type": "code",
   "execution_count": null,
   "id": "9c9277cb",
   "metadata": {},
   "outputs": [],
   "source": [
    "Степеней свободы 2*(n-1)= 2*(9-1)=16 при критерии значимости 0,05\n",
    "Tt= 2.120 \n"
   ]
  },
  {
   "cell_type": "code",
   "execution_count": null,
   "id": "f1da370e",
   "metadata": {},
   "outputs": [],
   "source": [
    "pvalue=0.5911212354055175 > альфа (0,05), поэтому мы принимаем Н0 \n",
    "Т расчетное лежит в пределах нулевой гипотезы, меньше Т табличного (0,559 < 2,120)"
   ]
  },
  {
   "cell_type": "code",
   "execution_count": null,
   "id": "43333d63",
   "metadata": {},
   "outputs": [],
   "source": []
  }
 ],
 "metadata": {
  "kernelspec": {
   "display_name": "Python 3 (ipykernel)",
   "language": "python",
   "name": "python3"
  },
  "language_info": {
   "codemirror_mode": {
    "name": "ipython",
    "version": 3
   },
   "file_extension": ".py",
   "mimetype": "text/x-python",
   "name": "python",
   "nbconvert_exporter": "python",
   "pygments_lexer": "ipython3",
   "version": "3.9.12"
  }
 },
 "nbformat": 4,
 "nbformat_minor": 5
}
