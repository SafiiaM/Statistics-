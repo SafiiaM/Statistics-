{
  "nbformat": 4,
  "nbformat_minor": 0,
  "metadata": {
    "colab": {
      "provenance": []
    },
    "kernelspec": {
      "name": "python3",
      "display_name": "Python 3"
    },
    "language_info": {
      "name": "python"
    }
  },
  "cells": [
    {
      "cell_type": "code",
      "execution_count": null,
      "metadata": {
        "id": "dy8vHC574PA7"
      },
      "outputs": [],
      "source": [
        "a = 17/32\n",
        "b = 9/22"
      ]
    },
    {
      "cell_type": "code",
      "source": [
        "diff = a - b\n",
        "diff"
      ],
      "metadata": {
        "colab": {
          "base_uri": "https://localhost:8080/"
        },
        "id": "EuUwXYVI94CT",
        "outputId": "87006ac8-7511-45e3-c16b-be71a0639fe4"
      },
      "execution_count": null,
      "outputs": [
        {
          "output_type": "execute_result",
          "data": {
            "text/plain": [
              "0.12215909090909088"
            ]
          },
          "metadata": {},
          "execution_count": 10
        }
      ]
    },
    {
      "cell_type": "code",
      "source": [
        "z = 1.96"
      ],
      "metadata": {
        "id": "GQ-NzSyv-xuu"
      },
      "execution_count": null,
      "outputs": []
    },
    {
      "cell_type": "code",
      "source": [
        "p = (17 + 9) / (32 + 22)"
      ],
      "metadata": {
        "id": "ARf24oJxAbc6"
      },
      "execution_count": null,
      "outputs": []
    },
    {
      "cell_type": "code",
      "source": [
        "import math\n",
        "S = math.sqrt(p * (1 - p) * (1/32 + 1/22))\n",
        "S"
      ],
      "metadata": {
        "colab": {
          "base_uri": "https://localhost:8080/"
        },
        "id": "CKkt1C5A_7Qs",
        "outputId": "3355fadf-70a4-4f3d-a148-d33d7582b504"
      },
      "execution_count": null,
      "outputs": [
        {
          "output_type": "execute_result",
          "data": {
            "text/plain": [
              "0.13838291675576017"
            ]
          },
          "metadata": {},
          "execution_count": 6
        }
      ]
    },
    {
      "cell_type": "code",
      "source": [
        "print((diff - z * S, diff + z * S))"
      ],
      "metadata": {
        "colab": {
          "base_uri": "https://localhost:8080/"
        },
        "id": "eZsFojSwAgxB",
        "outputId": "a864a67b-07d0-4f6b-9218-5254e1173b72"
      },
      "execution_count": null,
      "outputs": [
        {
          "output_type": "stream",
          "name": "stdout",
          "text": [
            "(-0.14907142593219902, 0.3933896077503808)\n"
          ]
        }
      ]
    },
    {
      "cell_type": "code",
      "source": [
        "(abs(a - b) - 1/2 * (1/32 + 1/22)) / S"
      ],
      "metadata": {
        "colab": {
          "base_uri": "https://localhost:8080/"
        },
        "id": "1mrVmdHeA86P",
        "outputId": "dca367aa-370c-4327-cd81-016c11cd6444"
      },
      "execution_count": null,
      "outputs": [
        {
          "output_type": "execute_result",
          "data": {
            "text/plain": [
              "0.6056153472305655"
            ]
          },
          "metadata": {},
          "execution_count": 14
        }
      ]
    },
    {
      "cell_type": "markdown",
      "source": [
        "Задача 3"
      ],
      "metadata": {
        "id": "Faye16Z-Frcl"
      }
    },
    {
      "cell_type": "code",
      "source": [
        "n = 157\n",
        "m = 2.8\n",
        "sigma = 1.2\n",
        "z_95 = 1.96\n",
        "z_90 = 1.28"
      ],
      "metadata": {
        "id": "9tPI_We8Dh5N"
      },
      "execution_count": null,
      "outputs": []
    },
    {
      "cell_type": "code",
      "source": [
        "print((m - z_95* sigma / math.sqrt(n), m + z_95*sigma/math.sqrt(n)))"
      ],
      "metadata": {
        "colab": {
          "base_uri": "https://localhost:8080/"
        },
        "id": "fUAxuTSUFvbG",
        "outputId": "9b4c0a0a-4990-4043-e928-c7f35ba4195c"
      },
      "execution_count": null,
      "outputs": [
        {
          "output_type": "stream",
          "name": "stdout",
          "text": [
            "(2.612289964773215, 2.9877100352267845)\n"
          ]
        }
      ]
    },
    {
      "cell_type": "code",
      "source": [
        "print((m - z_90* sigma / math.sqrt(n), m + z_90*sigma/math.sqrt(n)))"
      ],
      "metadata": {
        "colab": {
          "base_uri": "https://localhost:8080/"
        },
        "id": "NHg7cc8EF-HT",
        "outputId": "01ca6bcf-5c60-4b32-8b2a-d43ff7d5b38c"
      },
      "execution_count": null,
      "outputs": [
        {
          "output_type": "stream",
          "name": "stdout",
          "text": [
            "(2.677413854545773, 2.922586145454227)\n"
          ]
        }
      ]
    },
    {
      "cell_type": "markdown",
      "source": [
        "Задача 6"
      ],
      "metadata": {
        "id": "08LHWIcOOQFC"
      }
    },
    {
      "cell_type": "code",
      "source": [
        "n = 21\n",
        "m_1 = 1.8\n",
        "m_2 = 2.3\n",
        "sigma_1 = 0.4\n",
        "sigma_2 = 0.6\n",
        "d_1 = sigma_1 ** 2\n",
        "d_2 = sigma_2 ** 2\n",
        "t = 2.021"
      ],
      "metadata": {
        "id": "m4gVPcGLHYp5"
      },
      "execution_count": null,
      "outputs": []
    },
    {
      "cell_type": "code",
      "source": [
        "delta = abs(m_1 - m_2)"
      ],
      "metadata": {
        "id": "Bhjio04OOd3-"
      },
      "execution_count": null,
      "outputs": []
    },
    {
      "cell_type": "code",
      "source": [
        "d = 1/2 * (d_1 + d_2)"
      ],
      "metadata": {
        "id": "wRNOA36rOmHM"
      },
      "execution_count": null,
      "outputs": []
    },
    {
      "cell_type": "code",
      "source": [
        "S_delta = math.sqrt(d / n + d / n)"
      ],
      "metadata": {
        "id": "WToSh5-GOvpf"
      },
      "execution_count": null,
      "outputs": []
    },
    {
      "cell_type": "code",
      "source": [
        "print(delta - t * S_delta, delta + t * S_delta)"
      ],
      "metadata": {
        "colab": {
          "base_uri": "https://localhost:8080/"
        },
        "id": "V-xmnm-dPG1t",
        "outputId": "abc921df-48e9-4316-e5c1-1be0acbc386c"
      },
      "execution_count": null,
      "outputs": [
        {
          "output_type": "stream",
          "name": "stdout",
          "text": [
            "0.1819771406838509 0.8180228593161487\n"
          ]
        }
      ]
    },
    {
      "cell_type": "code",
      "source": [
        "24/30"
      ],
      "metadata": {
        "colab": {
          "base_uri": "https://localhost:8080/"
        },
        "id": "wbl16RfPPM9R",
        "outputId": "b6e9ce06-fc28-4d42-85a3-34ea396555ef"
      },
      "execution_count": null,
      "outputs": [
        {
          "output_type": "execute_result",
          "data": {
            "text/plain": [
              "0.8"
            ]
          },
          "metadata": {},
          "execution_count": 31
        }
      ]
    },
    {
      "cell_type": "code",
      "source": [],
      "metadata": {
        "id": "N1bTRR8lRql-"
      },
      "execution_count": null,
      "outputs": []
    }
  ]
}