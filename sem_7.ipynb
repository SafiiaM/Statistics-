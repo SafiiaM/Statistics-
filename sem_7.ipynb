{
  "nbformat": 4,
  "nbformat_minor": 0,
  "metadata": {
    "colab": {
      "provenance": []
    },
    "kernelspec": {
      "name": "python3",
      "display_name": "Python 3"
    },
    "language_info": {
      "name": "python"
    }
  },
  "cells": [
    {
      "cell_type": "code",
      "execution_count": null,
      "metadata": {
        "id": "cS90xU0pq8Hw"
      },
      "outputs": [],
      "source": [
        "import numpy as np\n",
        "group1 = np.array([1000, 1380, 1200])\n",
        "group2 = np.array([1400, 1600, 1180, 1220])"
      ]
    },
    {
      "cell_type": "code",
      "source": [
        "import scipy.stats as stats"
      ],
      "metadata": {
        "id": "iR5KdlVawayc"
      },
      "execution_count": null,
      "outputs": []
    },
    {
      "cell_type": "code",
      "source": [
        "from math import factorial\n",
        "\n",
        "def C(n, k):\n",
        "    return factorial(n) / (factorial(k) * factorial(n - k))"
      ],
      "metadata": {
        "id": "poh7bxuJu8Sc"
      },
      "execution_count": null,
      "outputs": []
    },
    {
      "cell_type": "code",
      "source": [
        "rank1 = 9\n",
        "rank2 = 19"
      ],
      "metadata": {
        "id": "jG-oNKn1ua3s"
      },
      "execution_count": null,
      "outputs": []
    },
    {
      "cell_type": "code",
      "source": [
        "C(7, 3)"
      ],
      "metadata": {
        "colab": {
          "base_uri": "https://localhost:8080/"
        },
        "id": "fZTlVgBdutCi",
        "outputId": "29d36a69-17bd-4572-c001-0d7b70956844"
      },
      "execution_count": null,
      "outputs": [
        {
          "output_type": "execute_result",
          "data": {
            "text/plain": [
              "35.0"
            ]
          },
          "metadata": {},
          "execution_count": 4
        }
      ]
    },
    {
      "cell_type": "code",
      "source": [
        "stats.mannwhitneyu(group1, group2)"
      ],
      "metadata": {
        "colab": {
          "base_uri": "https://localhost:8080/"
        },
        "id": "qDj_jjs7vPxa",
        "outputId": "b9ad2ab0-0d81-4703-c165-0e89c79b3307"
      },
      "execution_count": null,
      "outputs": [
        {
          "output_type": "execute_result",
          "data": {
            "text/plain": [
              "MannwhitneyuResult(statistic=3.0, pvalue=0.4)"
            ]
          },
          "metadata": {},
          "execution_count": 6
        }
      ]
    },
    {
      "cell_type": "code",
      "source": [
        "X = np.array([20,17, 14, 42, 50, 62, 8, 49, 81, 54, 48, 55, 56]) \n",
        "Y = np.array ([20, 26, 1, 24, 1, 47, 15, 7, 65, 9, 21, 36, 30])"
      ],
      "metadata": {
        "id": "5vQn5sxJwmTz"
      },
      "execution_count": null,
      "outputs": []
    },
    {
      "cell_type": "code",
      "source": [
        "stats.wilcoxon(X, Y)"
      ],
      "metadata": {
        "colab": {
          "base_uri": "https://localhost:8080/"
        },
        "id": "YR2e2eFp1fAW",
        "outputId": "f3bfa5ed-63a3-4488-a57a-2a8c4fa6018a"
      },
      "execution_count": null,
      "outputs": [
        {
          "output_type": "stream",
          "name": "stderr",
          "text": [
            "/usr/local/lib/python3.8/dist-packages/scipy/stats/morestats.py:3141: UserWarning: Exact p-value calculation does not work if there are ties. Switching to normal approximation.\n",
            "  warnings.warn(\"Exact p-value calculation does not work if there are \"\n"
          ]
        },
        {
          "output_type": "execute_result",
          "data": {
            "text/plain": [
              "WilcoxonResult(statistic=3.0, pvalue=0.004741768038406972)"
            ]
          },
          "metadata": {},
          "execution_count": 10
        }
      ]
    },
    {
      "cell_type": "code",
      "source": [
        "delta = Y - X\n",
        "delta"
      ],
      "metadata": {
        "colab": {
          "base_uri": "https://localhost:8080/"
        },
        "id": "EwljV3Pl1oHF",
        "outputId": "558e54a9-401b-493d-8f5c-f9d00afadf06"
      },
      "execution_count": null,
      "outputs": [
        {
          "output_type": "execute_result",
          "data": {
            "text/plain": [
              "array([  0,   9, -13, -18, -49, -15,   7, -42, -16, -45, -27, -19, -26])"
            ]
          },
          "metadata": {},
          "execution_count": 14
        }
      ]
    },
    {
      "cell_type": "code",
      "source": [
        "sorted(abs(delta))"
      ],
      "metadata": {
        "colab": {
          "base_uri": "https://localhost:8080/"
        },
        "id": "hU0eEQpk226W",
        "outputId": "5eb72426-a0c0-4cd5-89c2-142378cdadb2"
      },
      "execution_count": null,
      "outputs": [
        {
          "output_type": "execute_result",
          "data": {
            "text/plain": [
              "[0, 7, 9, 13, 15, 16, 18, 19, 26, 27, 42, 45, 49]"
            ]
          },
          "metadata": {},
          "execution_count": 17
        }
      ]
    },
    {
      "cell_type": "code",
      "source": [
        "rank_sum = 6"
      ],
      "metadata": {
        "id": "tv0A5-P03ATd"
      },
      "execution_count": null,
      "outputs": []
    },
    {
      "cell_type": "code",
      "source": [
        "A= np.array([3.5, 3.3, 4.9, 3.6]) \n",
        "B= np.array([8.6, 5.4, 8.8, 5.6]) \n",
        "C=np.array([5.1, 8.6, 7.7, 5.0])"
      ],
      "metadata": {
        "id": "jgu7BPYK3Vnl"
      },
      "execution_count": null,
      "outputs": []
    },
    {
      "cell_type": "code",
      "source": [
        "stats.friedmanchisquare(A, B, C)"
      ],
      "metadata": {
        "colab": {
          "base_uri": "https://localhost:8080/"
        },
        "id": "ZEYIDBOO8vy9",
        "outputId": "6c57e3c2-48f1-49a4-91f5-1185def6c8e1"
      },
      "execution_count": null,
      "outputs": [
        {
          "output_type": "execute_result",
          "data": {
            "text/plain": [
              "FriedmanchisquareResult(statistic=6.5, pvalue=0.03877420783172202)"
            ]
          },
          "metadata": {},
          "execution_count": 21
        }
      ]
    },
    {
      "cell_type": "code",
      "source": [],
      "metadata": {
        "id": "jbXpUyE5ADcv"
      },
      "execution_count": null,
      "outputs": []
    },
    {
      "cell_type": "code",
      "source": [
        "gr1 =([0.5, 0.7, 1, 1.2, 1.4])\n",
        "gr2 = ([1.3, 1.45, 1.6, 1.7, 1.8])\n",
        "gr3 = ([6.2, 12.6, 13.2, 14.1, 14.2])"
      ],
      "metadata": {
        "id": "bB3I6dNmADlz"
      },
      "execution_count": null,
      "outputs": []
    },
    {
      "cell_type": "code",
      "source": [
        "stats.kruskal(gr1, gr2, gr3)"
      ],
      "metadata": {
        "colab": {
          "base_uri": "https://localhost:8080/"
        },
        "id": "sgpWyFbU9Hzq",
        "outputId": "52de20f3-d1ae-44dd-c6d0-b2b628888ea6"
      },
      "execution_count": null,
      "outputs": [
        {
          "output_type": "execute_result",
          "data": {
            "text/plain": [
              "KruskalResult(statistic=12.02000000000001, pvalue=0.002454088180413905)"
            ]
          },
          "metadata": {},
          "execution_count": 24
        }
      ]
    },
    {
      "cell_type": "code",
      "source": [],
      "metadata": {
        "id": "KvwprTjTAGRn"
      },
      "execution_count": null,
      "outputs": []
    }
  ]
}