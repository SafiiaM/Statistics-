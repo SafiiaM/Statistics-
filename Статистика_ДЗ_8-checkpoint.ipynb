{
 "cells": [
  {
   "cell_type": "markdown",
   "id": "11aff0fc",
   "metadata": {},
   "source": [
    "1. Даны значения величины заработной платы заемщиков банка (zp) и значения их поведенческого кредитного скоринга (ks):\n",
    "zp = [35, 45, 190, 200, 40, 70, 54, 150, 120, 110],\n",
    "ks = [401, 574, 874, 919, 459, 739, 653, 902, 746, 832].\n",
    "Найдите ковариацию этих двух величин с помощью элементарных действий, а затем с помощью функции cov из numpy\n",
    "Полученные значения должны быть равны.\n",
    "Найдите коэффициент корреляции Пирсона с помощью ковариации и среднеквадратичных отклонений двух признаков,\n",
    "а затем с использованием функций из библиотек.\n",
    "Посчитать корреляцию Спирмена с помощью функции\n"
   ]
  },
  {
   "cell_type": "code",
   "execution_count": 1,
   "id": "cfec94a4",
   "metadata": {},
   "outputs": [
    {
     "data": {
      "text/plain": [
       "array([[1.        , 0.88749009],\n",
       "       [0.88749009, 1.        ]])"
      ]
     },
     "execution_count": 1,
     "metadata": {},
     "output_type": "execute_result"
    }
   ],
   "source": [
    "import numpy as np\n",
    "import scipy.stats as stats\n",
    "zp = np.array([35, 45, 190, 200, 40, 70, 54, 150, 120, 110])\n",
    "ks = np.array([401, 574, 874, 919, 459, 739, 653, 902, 746, 832]) \n",
    "\n",
    "np.corrcoef(zp,ks) #коэффициент корреляции Пирсона "
   ]
  },
  {
   "cell_type": "code",
   "execution_count": 2,
   "id": "72319a2e",
   "metadata": {},
   "outputs": [
    {
     "data": {
      "text/plain": [
       "9157.839999999997"
      ]
     },
     "execution_count": 2,
     "metadata": {},
     "output_type": "execute_result"
    }
   ],
   "source": [
    "cov=np.mean(zp*ks)-np.mean(zp)*np.mean(ks)# ковариация \n",
    "cov"
   ]
  },
  {
   "cell_type": "code",
   "execution_count": 3,
   "id": "0cb55788",
   "metadata": {},
   "outputs": [
    {
     "data": {
      "text/plain": [
       "array([[ 3494.64,  9157.84],\n",
       "       [ 9157.84, 30468.89]])"
      ]
     },
     "execution_count": 3,
     "metadata": {},
     "output_type": "execute_result"
    }
   ],
   "source": [
    "np.cov(zp,ks, ddof=0)# смещенная ковариация (значения ковариации, рассчитанные по формуле и через Python, совпадают - 9157.84)"
   ]
  },
  {
   "cell_type": "code",
   "execution_count": 4,
   "id": "b4cf3a0b",
   "metadata": {},
   "outputs": [
    {
     "data": {
      "text/plain": [
       "(59.115480206118605, 174.55340157098058)"
      ]
     },
     "execution_count": 4,
     "metadata": {},
     "output_type": "execute_result"
    }
   ],
   "source": [
    "np.std(zp, ddof=0), np.std(ks, ddof=0)# смещенное отклонение "
   ]
  },
  {
   "cell_type": "code",
   "execution_count": 5,
   "id": "0fb3c936",
   "metadata": {},
   "outputs": [
    {
     "data": {
      "text/plain": [
       "0.8874900920739158"
      ]
     },
     "execution_count": 5,
     "metadata": {},
     "output_type": "execute_result"
    }
   ],
   "source": [
    "9157.839999999997/59.115480206118605/174.55340157098058 # Согласно формуле для расчета коэффициента корреляции \n",
    "# мы должны ковариацию разделить на произведение стандартных отклонений"
   ]
  },
  {
   "cell_type": "code",
   "execution_count": 6,
   "id": "71616139",
   "metadata": {},
   "outputs": [
    {
     "data": {
      "text/plain": [
       "SpearmanrResult(correlation=0.9757575757575757, pvalue=1.4675461874042197e-06)"
      ]
     },
     "execution_count": 6,
     "metadata": {},
     "output_type": "execute_result"
    }
   ],
   "source": [
    "stats.spearmanr(zp,ks) # Коэффициент корреляции Спирмена"
   ]
  },
  {
   "cell_type": "code",
   "execution_count": null,
   "id": "937f7852",
   "metadata": {},
   "outputs": [],
   "source": []
  },
  {
   "cell_type": "markdown",
   "id": "15fbf4ef",
   "metadata": {},
   "source": [
    "2.\tИзмерены значения IQ выборки студентов,\n",
    "обучающихся в местных технических вузах:\n",
    "131, 125, 115, 122, 131, 115, 107, 99, 125, 111.\n",
    "Известно, что в генеральной совокупности IQ распределен нормально.\n",
    "Найдите доверительный интервал для математического ожидания с надежностью 0.95.\n"
   ]
  },
  {
   "cell_type": "markdown",
   "id": "0a4dad9a",
   "metadata": {},
   "source": [
    "Используем критерий Стьюдента, поскольку нет данных по мат ожиданию и среднему квадратичному отклонению. \n",
    "Найдем среднее, среднее квадратичное отклонение и доверительный интервал для среднего арифметического \n",
    "\n",
    "x±t_(α/2) * σ/√n"
   ]
  },
  {
   "cell_type": "code",
   "execution_count": 7,
   "id": "c3461559",
   "metadata": {},
   "outputs": [
    {
     "name": "stdout",
     "output_type": "stream",
     "text": [
      "(118.1, 10, 10.54566788359614)\n"
     ]
    }
   ],
   "source": [
    "import numpy as np\n",
    "IQ=np.array([131, 125, 115, 122, 131, 115, 107, 99, 125, 111])\n",
    "x_1=np.mean(IQ) # среднее по выборке\n",
    "n=len(IQ) # размер выборки\n",
    "d1=np.std(IQ, ddof=1)# Среднее квадратичное отклонение по выборке(несмещенная дисперсия)\n",
    "print ((x_1, n, d1))"
   ]
  },
  {
   "cell_type": "code",
   "execution_count": 8,
   "id": "e9e89bb0",
   "metadata": {},
   "outputs": [
    {
     "data": {
      "text/plain": [
       "1.8331129326536335"
      ]
     },
     "execution_count": 8,
     "metadata": {},
     "output_type": "execute_result"
    }
   ],
   "source": [
    "t1= stats.t.ppf(0.95,9)\n",
    "t1"
   ]
  },
  {
   "cell_type": "markdown",
   "id": "b84265a0",
   "metadata": {},
   "source": [
    "Табличное значение t-критерия для 95%-го доверительного интервала: 1.833 совпадает с расчетным"
   ]
  },
  {
   "cell_type": "code",
   "execution_count": 10,
   "id": "b6571a8e",
   "metadata": {},
   "outputs": [
    {
     "name": "stdout",
     "output_type": "stream",
     "text": [
      "(111.9868745068196, 124.21312549318039)\n"
     ]
    }
   ],
   "source": [
    "import math\n",
    "print ((x_1-t1*d1/math.sqrt(n), x_1 + t1 * d1/math.sqrt(n))) # доверительный интервал"
   ]
  },
  {
   "cell_type": "code",
   "execution_count": null,
   "id": "b601e89a",
   "metadata": {},
   "outputs": [],
   "source": []
  },
  {
   "cell_type": "markdown",
   "id": "708f4793",
   "metadata": {},
   "source": [
    "3.\tИзвестно, что рост футболистов в сборной распределен нормально\n",
    "с дисперсией генеральной совокупности, равной 25 кв.см. Объем выборки равен 27,\n",
    "среднее выборочное составляет 174.2. Найдите доверительный интервал для математического\n",
    "ожидания с надежностью 0.95.\n"
   ]
  },
  {
   "cell_type": "markdown",
   "id": "944a9892",
   "metadata": {},
   "source": [
    "Используем Z-критерий, потому что известна сигма генеральной совокупности,генеральная совокупность распределена нормально. \n",
    "По таблице ищем 0,975 а = 1 - а/2= 1 - 0,05/2= 0,975 Значение Z = 1,96\n",
    "\n",
    "Найдем доверительный интервал по формуле:\n",
    "\n",
    "m±z_(α/2) * σ/√n"
   ]
  },
  {
   "cell_type": "code",
   "execution_count": 11,
   "id": "b7b7134a",
   "metadata": {},
   "outputs": [
    {
     "name": "stdout",
     "output_type": "stream",
     "text": [
      "(172.31398912064722, 176.08601087935276)\n"
     ]
    }
   ],
   "source": [
    "d = 25 # дисперсия \n",
    "σ = np.sqrt(d) # сигма генеральной совокупности\n",
    "n = 27 # объем выборки\n",
    "m = 174.2 # среднее выборочное\n",
    "z_95 = 1.96 # значение Z-критерия с надежностью 0.95\n",
    "print((m-z_95*σ/math.sqrt(n), m + z_95 * σ/math.sqrt(n))) # доверительный интервал "
   ]
  },
  {
   "cell_type": "code",
   "execution_count": null,
   "id": "1e76a8ec",
   "metadata": {},
   "outputs": [],
   "source": []
  }
 ],
 "metadata": {
  "kernelspec": {
   "display_name": "Python 3 (ipykernel)",
   "language": "python",
   "name": "python3"
  },
  "language_info": {
   "codemirror_mode": {
    "name": "ipython",
    "version": 3
   },
   "file_extension": ".py",
   "mimetype": "text/x-python",
   "name": "python",
   "nbconvert_exporter": "python",
   "pygments_lexer": "ipython3",
   "version": "3.9.12"
  }
 },
 "nbformat": 4,
 "nbformat_minor": 5
}
