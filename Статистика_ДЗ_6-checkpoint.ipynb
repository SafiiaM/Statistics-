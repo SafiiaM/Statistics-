{
 "cells": [
  {
   "cell_type": "markdown",
   "id": "2f899cb5",
   "metadata": {},
   "source": [
    "1.\tИзвестно, что генеральная совокупность распределена нормально со средним квадратическим отклонением, равным 16.\n",
    "Найти доверительный интервал для оценки математического ожидания a с надежностью 0.95, если выборочная средняя M = 80, а объем выборки n = 256."
   ]
  },
  {
   "cell_type": "markdown",
   "id": "e32eb339",
   "metadata": {},
   "source": [
    "Используем Z-критерий, потому что известна сигма генеральной совокупности, генеральная совокупность распределена нормально. \n",
    "По таблице ищем 0,975 а = 1 - а/2= 1 - 0,05/2= 0,975 Значение Z = 1,96\n",
    "\n",
    "Найдем доверительный интервал по формуле: \n",
    "    \n",
    "m±z_(α/2) * σ/√n "
   ]
  },
  {
   "cell_type": "code",
   "execution_count": 1,
   "id": "aae90e00",
   "metadata": {},
   "outputs": [
    {
     "name": "stdout",
     "output_type": "stream",
     "text": [
      "(78.04, 81.96)\n"
     ]
    }
   ],
   "source": [
    "import math\n",
    "σ = 16\n",
    "n = 256 \n",
    "m = 80 \n",
    "z_95 = 1.96\n",
    "print((m-z_95*σ/math.sqrt(n), m + z_95 * σ/math.sqrt(n))) "
   ]
  },
  {
   "cell_type": "code",
   "execution_count": null,
   "id": "355ebab8",
   "metadata": {},
   "outputs": [],
   "source": []
  },
  {
   "cell_type": "markdown",
   "id": "84c79966",
   "metadata": {},
   "source": [
    "2.\tВ результате 10 независимых измерений некоторой величины X, выполненных с одинаковой точностью, получены опытные данные:\n",
    "6.9, 6.1, 6.2, 6.8, 7.5, 6.3, 6.4, 6.9, 6.7, 6.1\n",
    "\n",
    "Предполагая, что результаты измерений подчинены нормальному закону распределения вероятностей, оценить истинное значение величины X при помощи доверительного интервала, покрывающего это значение с доверительной вероятностью 0,95.\n"
   ]
  },
  {
   "cell_type": "code",
   "execution_count": null,
   "id": "2f9f0f68",
   "metadata": {},
   "outputs": [],
   "source": [
    "Используем критерий Стьюдента, поскольку нет данных по мат ожиданию и среднему квадратичному отклонению. \n",
    "Найдем среднее, среднее квадратичное отклонение и доверительный интервал для среднего арифметического \n",
    "\n",
    "x±t_(α/2) * σ/√n"
   ]
  },
  {
   "cell_type": "code",
   "execution_count": 17,
   "id": "52d16724",
   "metadata": {},
   "outputs": [
    {
     "name": "stdout",
     "output_type": "stream",
     "text": [
      "(6.590000000000001, 10, 0.4508017549014448)\n"
     ]
    }
   ],
   "source": [
    "import numpy as np\n",
    "a=np.array([6.9, 6.1, 6.2, 6.8, 7.5, 6.3, 6.4, 6.9, 6.7, 6.1])\n",
    "x_1=np.mean(a) # среднее по выборке\n",
    "n=len(a) # размер выборки\n",
    "d1=np.std(a, ddof=1)# Среднее квадратичное отклонение по выборке(несмещенная дисперсия)\n",
    "print ((x_1, n, d1))"
   ]
  },
  {
   "cell_type": "code",
   "execution_count": 6,
   "id": "bef0b89b",
   "metadata": {},
   "outputs": [
    {
     "data": {
      "text/plain": [
       "2.2621571627409915"
      ]
     },
     "execution_count": 6,
     "metadata": {},
     "output_type": "execute_result"
    }
   ],
   "source": [
    "import scipy.stats as stats\n",
    "t1= stats.t.ppf(0.975,9)\n",
    "t1"
   ]
  },
  {
   "cell_type": "markdown",
   "id": "e19de6f3",
   "metadata": {},
   "source": [
    "Табличное значение t-критерия для 95%-го доверительного интервала:  2.262\n",
    "\n",
    "совпадает с расчетным"
   ]
  },
  {
   "cell_type": "code",
   "execution_count": 19,
   "id": "3ea9f375",
   "metadata": {},
   "outputs": [
    {
     "name": "stdout",
     "output_type": "stream",
     "text": [
      "(6.267515851415713, 6.912484148584288)\n"
     ]
    }
   ],
   "source": [
    "print ((x_1-t1*d1/math.sqrt(n), x_1 + t1 * d1/math.sqrt(n))) # доверительный интервал"
   ]
  },
  {
   "cell_type": "code",
   "execution_count": null,
   "id": "5f5a213d",
   "metadata": {},
   "outputs": [],
   "source": []
  },
  {
   "cell_type": "markdown",
   "id": "d9231ec2",
   "metadata": {},
   "source": [
    "3.\tРост дочерей 175, 167, 154, 174, 178, 148, 160, 167, 169, 170\n",
    "Рост матерей 178, 165, 165, 173, 168, 155, 160, 164, 178, 175\n",
    "Используя эти данные построить 95% доверительный интервал для разности среднего роста родителей и детей.\n"
   ]
  },
  {
   "cell_type": "markdown",
   "id": "e76b7a4a",
   "metadata": {},
   "source": [
    "формула для нахождения доверительного интервала для разности средних арифметических µ1-µ2 будет: \n",
    "Δ± t(α/2)* S_Δ , где Δ= (X1)- (X2)\n",
    "найдем общую дисперсию, как среднюю дисперсию обеих групп.\n",
    "D=1/2(D1+D2), где   D1 и D2 – дисперсии обеих групп\n",
    "найдем стандартную ошибку разности средних:\n",
    "S_Δ=√(D/n1 +D/n2 ), где n1 и  n2 – объемы выборок.\n",
    "Используем критерий Стьюдента\n",
    "для критерия Стьюдента степени свободы df = 2*(n-1) "
   ]
  },
  {
   "cell_type": "code",
   "execution_count": 30,
   "id": "80b56804",
   "metadata": {},
   "outputs": [
    {
     "name": "stdout",
     "output_type": "stream",
     "text": [
      "(166.2, 168.1, 10, 10, 1.9000000000000057)\n"
     ]
    }
   ],
   "source": [
    "import numpy as np\n",
    "a=np.array([175, 167, 154, 174, 178, 148, 160, 167, 169, 170])\n",
    "b=np.array([178, 165, 165, 173, 168, 155, 160, 164, 178, 175])\n",
    "x1=np.mean(a) # среднее по выборке дочерей\n",
    "x2=np.mean(b) # среднее по выборке матерей\n",
    "n1=len(a) # размер выборки дочерей\n",
    "n2=len(b) # размер выборки матерей\n",
    "delta=x2-x1\n",
    "print ((x1, x2, n1, n2, delta))"
   ]
  },
  {
   "cell_type": "markdown",
   "id": "03090566",
   "metadata": {},
   "source": [
    "Находим несмещенные дисперсии для каждой выборки и затем стандартную ошибку для разности средних и критерий Стьюдента. "
   ]
  },
  {
   "cell_type": "code",
   "execution_count": 26,
   "id": "40b9da04",
   "metadata": {},
   "outputs": [
    {
     "name": "stdout",
     "output_type": "stream",
     "text": [
      "(91.06666666666666, 60.10000000000001, 75.58333333333334)\n"
     ]
    }
   ],
   "source": [
    "D1= np.var(a, ddof=1) # несмещенная дисперсия для выборки дочерей\n",
    "D2= np.var(b, ddof=1) # несмещенная дисперсия для выборки матерей\n",
    "D=1/2*(D1+D2) # общая дисперсия \n",
    "print ((D1, D2, D))"
   ]
  },
  {
   "cell_type": "code",
   "execution_count": 27,
   "id": "c6f9a379",
   "metadata": {},
   "outputs": [
    {
     "data": {
      "text/plain": [
       "3.8880157750022915"
      ]
     },
     "execution_count": 27,
     "metadata": {},
     "output_type": "execute_result"
    }
   ],
   "source": [
    "SE = np.sqrt(D/10+D/10) # стандартная ошибка разности средних \n",
    "SE"
   ]
  },
  {
   "cell_type": "code",
   "execution_count": 28,
   "id": "9760bcd8",
   "metadata": {},
   "outputs": [
    {
     "data": {
      "text/plain": [
       "2.10092204024096"
      ]
     },
     "execution_count": 28,
     "metadata": {},
     "output_type": "execute_result"
    }
   ],
   "source": [
    "import scipy.stats as stats \n",
    "t=stats.t.ppf(0.975, 18) # степени свободы df = 2*(n-1) = 2*(10-1)=18\n",
    "t"
   ]
  },
  {
   "cell_type": "code",
   "execution_count": 31,
   "id": "2b7a56c3",
   "metadata": {},
   "outputs": [
    {
     "name": "stdout",
     "output_type": "stream",
     "text": [
      "(-6.268418034506846, 10.068418034506857)\n"
     ]
    }
   ],
   "source": [
    "L=delta - t*SE # левая граница интервала\n",
    "R=delta + t*SE # правая граница интервала\n",
    "print((L,R))"
   ]
  },
  {
   "cell_type": "code",
   "execution_count": null,
   "id": "0c6dab14",
   "metadata": {},
   "outputs": [],
   "source": []
  }
 ],
 "metadata": {
  "kernelspec": {
   "display_name": "Python 3 (ipykernel)",
   "language": "python",
   "name": "python3"
  },
  "language_info": {
   "codemirror_mode": {
    "name": "ipython",
    "version": 3
   },
   "file_extension": ".py",
   "mimetype": "text/x-python",
   "name": "python",
   "nbconvert_exporter": "python",
   "pygments_lexer": "ipython3",
   "version": "3.9.12"
  }
 },
 "nbformat": 4,
 "nbformat_minor": 5
}
