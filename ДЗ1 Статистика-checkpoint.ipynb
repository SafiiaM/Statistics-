{
 "cells": [
  {
   "cell_type": "markdown",
   "id": "955f558a",
   "metadata": {},
   "source": [
    "# Задача 1 (а)"
   ]
  },
  {
   "cell_type": "code",
   "execution_count": 4,
   "id": "a475cae4",
   "metadata": {},
   "outputs": [],
   "source": [
    "from math import factorial"
   ]
  },
  {
   "cell_type": "code",
   "execution_count": 6,
   "id": "42b5daa4",
   "metadata": {},
   "outputs": [
    {
     "data": {
      "text/plain": [
       "270725"
      ]
     },
     "execution_count": 6,
     "metadata": {},
     "output_type": "execute_result"
    }
   ],
   "source": [
    "def combinations (n,k):\n",
    "  return factorial(n) // (factorial(k) * factorial(n-k))\n",
    "combinations (52,4) # число исходов извлечь 4 карты из 52"
   ]
  },
  {
   "cell_type": "code",
   "execution_count": 7,
   "id": "2b4199f0",
   "metadata": {},
   "outputs": [
    {
     "data": {
      "text/plain": [
       "715"
      ]
     },
     "execution_count": 7,
     "metadata": {},
     "output_type": "execute_result"
    }
   ],
   "source": [
    "def combinations (n,k):\n",
    "  return factorial(n) // (factorial(k) * factorial(n-k))\n",
    "combinations (13,4) # число исходов извлечь крести "
   ]
  },
  {
   "cell_type": "code",
   "execution_count": 12,
   "id": "8b22b397",
   "metadata": {},
   "outputs": [
    {
     "data": {
      "text/plain": [
       "0.0026410564225690276"
      ]
     },
     "execution_count": 12,
     "metadata": {},
     "output_type": "execute_result"
    }
   ],
   "source": [
    "def division (a,b):\n",
    "  return a / b\n",
    "division (715, 270725) # вероятность извлечения крестей "
   ]
  },
  {
   "cell_type": "markdown",
   "id": "dcb7a223",
   "metadata": {},
   "source": [
    "# Задача 1 (б)"
   ]
  },
  {
   "cell_type": "code",
   "execution_count": 13,
   "id": "d86f0e31",
   "metadata": {},
   "outputs": [
    {
     "data": {
      "text/plain": [
       "4"
      ]
     },
     "execution_count": 13,
     "metadata": {},
     "output_type": "execute_result"
    }
   ],
   "source": [
    "def combinations (n,k):\n",
    "  return factorial(n) // (factorial(k) * factorial(n-k))\n",
    "combinations (4,1) # сочетания из подмножества тузов "
   ]
  },
  {
   "cell_type": "code",
   "execution_count": 18,
   "id": "aa0da4e7",
   "metadata": {},
   "outputs": [
    {
     "data": {
      "text/plain": [
       "17296"
      ]
     },
     "execution_count": 18,
     "metadata": {},
     "output_type": "execute_result"
    }
   ],
   "source": [
    "def combinations (n,k):\n",
    "  return factorial(n) // (factorial(k) * factorial(n-k))\n",
    "combinations (48,3) # сочетания из подмножества не тузов "
   ]
  },
  {
   "cell_type": "code",
   "execution_count": 19,
   "id": "d4b4f42a",
   "metadata": {},
   "outputs": [
    {
     "data": {
      "text/plain": [
       "69184"
      ]
     },
     "execution_count": 19,
     "metadata": {},
     "output_type": "execute_result"
    }
   ],
   "source": [
    "def multiplication (a,b):\n",
    "  return a*b                   \n",
    "multiplication (4,17296) # сочетаний из 4 карт, где 1 туз "
   ]
  },
  {
   "cell_type": "code",
   "execution_count": 20,
   "id": "58c8e56f",
   "metadata": {},
   "outputs": [
    {
     "data": {
      "text/plain": [
       "0.25555083571890297"
      ]
     },
     "execution_count": 20,
     "metadata": {},
     "output_type": "execute_result"
    }
   ],
   "source": [
    "def division (a,b):\n",
    "  return a / b\n",
    "division (69184,270725) # вероятность извлечения 1 туза "
   ]
  },
  {
   "cell_type": "code",
   "execution_count": null,
   "id": "eb83984e",
   "metadata": {},
   "outputs": [],
   "source": []
  },
  {
   "cell_type": "markdown",
   "id": "9cad4386",
   "metadata": {},
   "source": [
    "# Задача 2"
   ]
  },
  {
   "cell_type": "code",
   "execution_count": 21,
   "id": "b4e8f70f",
   "metadata": {},
   "outputs": [
    {
     "data": {
      "text/plain": [
       "120"
      ]
     },
     "execution_count": 21,
     "metadata": {},
     "output_type": "execute_result"
    }
   ],
   "source": [
    "def combinations (n,k):\n",
    "  return factorial(n) // (factorial(k) * factorial(n-k))\n",
    "combinations (10,3) # все возможные сочентания  "
   ]
  },
  {
   "cell_type": "code",
   "execution_count": 22,
   "id": "bffbcb70",
   "metadata": {},
   "outputs": [
    {
     "data": {
      "text/plain": [
       "0.008333333333333333"
      ]
     },
     "execution_count": 22,
     "metadata": {},
     "output_type": "execute_result"
    }
   ],
   "source": [
    "def division (a,b):\n",
    "  return a / b\n",
    "division (1,120) # вероятность с первого раза набрать правильную комбинацию "
   ]
  },
  {
   "cell_type": "code",
   "execution_count": null,
   "id": "91d4a1ca",
   "metadata": {},
   "outputs": [],
   "source": []
  },
  {
   "cell_type": "markdown",
   "id": "eddd6377",
   "metadata": {},
   "source": [
    "# Задача 3"
   ]
  },
  {
   "cell_type": "code",
   "execution_count": 23,
   "id": "2e05735a",
   "metadata": {},
   "outputs": [
    {
     "data": {
      "text/plain": [
       "455"
      ]
     },
     "execution_count": 23,
     "metadata": {},
     "output_type": "execute_result"
    }
   ],
   "source": [
    "def combinations (n,k):\n",
    "  return factorial(n) // (factorial(k) * factorial(n-k))\n",
    "combinations (15,3) # сочетания общего числа исходов"
   ]
  },
  {
   "cell_type": "code",
   "execution_count": 24,
   "id": "dd8362fd",
   "metadata": {},
   "outputs": [
    {
     "data": {
      "text/plain": [
       "84"
      ]
     },
     "execution_count": 24,
     "metadata": {},
     "output_type": "execute_result"
    }
   ],
   "source": [
    "def combinations (n,k):\n",
    "  return factorial(n) // (factorial(k) * factorial(n-k))\n",
    "combinations (9,3) # сочетания благоприятного числа исходов"
   ]
  },
  {
   "cell_type": "code",
   "execution_count": 25,
   "id": "6d21fca0",
   "metadata": {},
   "outputs": [
    {
     "data": {
      "text/plain": [
       "0.18461538461538463"
      ]
     },
     "execution_count": 25,
     "metadata": {},
     "output_type": "execute_result"
    }
   ],
   "source": [
    "def division (a,b):\n",
    "  return a / b\n",
    "division (84,455) # вероятность вынуть все 3 окрашенные детали "
   ]
  },
  {
   "cell_type": "code",
   "execution_count": null,
   "id": "1a63e716",
   "metadata": {},
   "outputs": [],
   "source": []
  },
  {
   "cell_type": "markdown",
   "id": "f4387d47",
   "metadata": {},
   "source": [
    "# Задача 4\n"
   ]
  },
  {
   "cell_type": "code",
   "execution_count": 26,
   "id": "5dee4d0c",
   "metadata": {},
   "outputs": [
    {
     "data": {
      "text/plain": [
       "4950"
      ]
     },
     "execution_count": 26,
     "metadata": {},
     "output_type": "execute_result"
    }
   ],
   "source": [
    "def combinations (n,k):\n",
    "  return factorial(n) // (factorial(k) * factorial(n-k))\n",
    "combinations (100,2) # сочетания благоприятного числа исходов"
   ]
  },
  {
   "cell_type": "code",
   "execution_count": 27,
   "id": "d24c51db",
   "metadata": {},
   "outputs": [
    {
     "data": {
      "text/plain": [
       "1"
      ]
     },
     "execution_count": 27,
     "metadata": {},
     "output_type": "execute_result"
    }
   ],
   "source": [
    "def combinations (n,k):\n",
    "  return factorial(n) // (factorial(k) * factorial(n-k))\n",
    "combinations (2,2) # сочетания выигрышных исходов из всех возможных выигрышных исходов"
   ]
  },
  {
   "cell_type": "code",
   "execution_count": 28,
   "id": "9026cf86",
   "metadata": {},
   "outputs": [
    {
     "data": {
      "text/plain": [
       "1"
      ]
     },
     "execution_count": 28,
     "metadata": {},
     "output_type": "execute_result"
    }
   ],
   "source": [
    "def combinations (n,k):\n",
    "  return factorial(n) // (factorial(k) * factorial(n-k))\n",
    "combinations (98,0) # сочетания прроигрышных исходов из всех возможных проигрышных исходов"
   ]
  },
  {
   "cell_type": "code",
   "execution_count": 48,
   "id": "39e2e975",
   "metadata": {},
   "outputs": [
    {
     "data": {
      "text/plain": [
       "2.0222446916076846e-05"
      ]
     },
     "execution_count": 48,
     "metadata": {},
     "output_type": "execute_result"
    }
   ],
   "source": [
    "def division (a,b):\n",
    "  return a / b\n",
    "division (1, 49450) # вероятность того, что 2 приобретенных билета окажутся выигрышными (должно быть 0,00020 - формула неправильно считает  )"
   ]
  },
  {
   "cell_type": "code",
   "execution_count": null,
   "id": "8bf93b10",
   "metadata": {},
   "outputs": [],
   "source": []
  },
  {
   "cell_type": "markdown",
   "id": "d898608f",
   "metadata": {},
   "source": [
    "Задача 5 "
   ]
  },
  {
   "cell_type": "markdown",
   "id": "fda4b0e5",
   "metadata": {},
   "source": [
    "\n",
    "p1=0,9 - Вероятность попадания для первого спортсмена \n",
    "q2=1-p2=1-0,8=0,2 - Вероятность непопадания для второго спортсмена \n",
    "q3=1-p3=1-0,6=0,4 - Вероятность непопадания для третьего спортсмена \n",
    "\n",
    "q1=1-0,9=0,1 - Вероятность непопадания для первого спортсмена \n",
    "p2=0,8 - Вероятность попадания для второго спортсмена \n",
    "p3=0,6 - Вероятность попадания для третьегоспортсмена \n",
    "\n",
    "1) х1=p1⋅q2⋅q3+q1⋅p2⋅q3+q1⋅q2⋅p3 - вероятность попадания первым спортсменом \n",
    "х1= 0,9*0,2*0,4+0,1*0,8*0,4+0,1*0,2*0,6=0,116\n",
    "\n",
    "2) х2=p1⋅p2⋅q3+p1⋅q2⋅p3+q1⋅p2⋅p3 - вероятность попадания вторым спортсменом \n",
    "х2= 0,9*0,8*0,4+0,9*0,2*0,6+0,1*0,8*0,6=0,444\n",
    "\n",
    "3) х3=p1⋅p2⋅p3 - вероятность попадания третьим спортсменом \n",
    "х3= 0,9*0,8*0,6=0,432"
   ]
  }
 ],
 "metadata": {
  "kernelspec": {
   "display_name": "Python 3 (ipykernel)",
   "language": "python",
   "name": "python3"
  },
  "language_info": {
   "codemirror_mode": {
    "name": "ipython",
    "version": 3
   },
   "file_extension": ".py",
   "mimetype": "text/x-python",
   "name": "python",
   "nbconvert_exporter": "python",
   "pygments_lexer": "ipython3",
   "version": "3.9.12"
  }
 },
 "nbformat": 4,
 "nbformat_minor": 5
}
