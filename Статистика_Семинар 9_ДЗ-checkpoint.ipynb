{
 "cells": [
  {
   "cell_type": "markdown",
   "id": "c91430cb",
   "metadata": {},
   "source": [
    "1.\tДаны значения величины заработной платы заемщиков банка (zp) и значения их поведенческого кредитного скоринга (ks): zp = [35, 45, 190, 200, 40, 70, 54, 150, 120, 110], ks = [401, 574, 874, 919, 459, 739, 653, 902, 746, 832]. Используя математические операции, посчитать коэффициенты линейной регрессии, приняв за X заработную плату (то есть, zp - признак), а за y - значения скорингового балла (то есть, ks - целевая переменная). Произвести расчет как с использованием intercept, так и без."
   ]
  },
  {
   "cell_type": "code",
   "execution_count": 3,
   "id": "0bcd0c7f",
   "metadata": {},
   "outputs": [
    {
     "data": {
      "text/plain": [
       "0.8874900920739164"
      ]
     },
     "execution_count": 3,
     "metadata": {},
     "output_type": "execute_result"
    }
   ],
   "source": [
    "import numpy as np\n",
    "import scipy.stats as stats\n",
    "\n",
    "zp = np.array ([35, 45, 190, 200, 40, 70, 54, 150, 120, 110]) \n",
    "ks = np.array ([401, 574, 874, 919, 459, 739, 653, 902, 746, 832])\n",
    "r= np.corrcoef(zp,ks) [1,0] # коэффициент корреляции Пирсона\n",
    "r"
   ]
  },
  {
   "cell_type": "code",
   "execution_count": 4,
   "id": "894ae397",
   "metadata": {},
   "outputs": [
    {
     "data": {
      "text/plain": [
       "0.7876386635293686"
      ]
     },
     "execution_count": 4,
     "metadata": {},
     "output_type": "execute_result"
    }
   ],
   "source": [
    "r**2  #находим коэф детерминации - доля объясненной изменчивости\n",
    "# то, что больше 0,9 - хорошо, то, что меньше 0,9 - не хорошо (интерпретация коэффициента детерминации) "
   ]
  },
  {
   "cell_type": "code",
   "execution_count": 5,
   "id": "39f6fc21",
   "metadata": {},
   "outputs": [
    {
     "data": {
      "image/png": "[encoded data removed]",
      "text/plain": [
       "<Figure size 640x480 with 1 Axes>"
      ]
     },
     "metadata": {},
     "output_type": "display_data"
    }
   ],
   "source": [
    "from sklearn.linear_model import LinearRegression\n",
    "import matplotlib.pyplot as plt \n",
    "plt.scatter(zp, ks)\n",
    "plt.title('r= 0.8874900920739164') \n",
    "plt.xlabel('zp')\n",
    "plt.ylabel('ks')\n",
    "plt.show()"
   ]
  },
  {
   "cell_type": "code",
   "execution_count": 26,
   "id": "e0d7822e",
   "metadata": {},
   "outputs": [
    {
     "data": {
      "text/plain": [
       "array([[ 35],\n",
       "       [ 45],\n",
       "       [190],\n",
       "       [200],\n",
       "       [ 40],\n",
       "       [ 70],\n",
       "       [ 54],\n",
       "       [150],\n",
       "       [120],\n",
       "       [110]])"
      ]
     },
     "execution_count": 26,
     "metadata": {},
     "output_type": "execute_result"
    }
   ],
   "source": [
    "model = LinearRegression()\n",
    "x=zp.reshape(-1,1)\n",
    "x"
   ]
  },
  {
   "cell_type": "code",
   "execution_count": 15,
   "id": "4ac82350",
   "metadata": {},
   "outputs": [
    {
     "data": {
      "text/plain": [
       "array([[401],\n",
       "       [574],\n",
       "       [874],\n",
       "       [919],\n",
       "       [459],\n",
       "       [739],\n",
       "       [653],\n",
       "       [902],\n",
       "       [746],\n",
       "       [832]])"
      ]
     },
     "execution_count": 15,
     "metadata": {},
     "output_type": "execute_result"
    }
   ],
   "source": [
    "y=ks.reshape(10,1)\n",
    "y"
   ]
  },
  {
   "cell_type": "code",
   "execution_count": 23,
   "id": "e3ff98e9",
   "metadata": {},
   "outputs": [
    {
     "data": {
      "text/plain": [
       "array([[  1.,  35.],\n",
       "       [  1.,  45.],\n",
       "       [  1., 190.],\n",
       "       [  1., 200.],\n",
       "       [  1.,  40.],\n",
       "       [  1.,  70.],\n",
       "       [  1.,  54.],\n",
       "       [  1., 150.],\n",
       "       [  1., 120.],\n",
       "       [  1., 110.]])"
      ]
     },
     "execution_count": 23,
     "metadata": {},
     "output_type": "execute_result"
    }
   ],
   "source": [
    "x=np.hstack([np.ones((10,1)),x])\n",
    "x"
   ]
  },
  {
   "cell_type": "code",
   "execution_count": 24,
   "id": "0538c939",
   "metadata": {},
   "outputs": [
    {
     "data": {
      "text/plain": [
       "array([[444.17735732],\n",
       "       [  2.62053888]])"
      ]
     },
     "execution_count": 24,
     "metadata": {},
     "output_type": "execute_result"
    }
   ],
   "source": [
    "B=np.dot(np.linalg.inv(np.dot(x.T,x)),x.T @ y)\n",
    "B # Матричный метод расчета коэффициентов линейной регрессии"
   ]
  },
  {
   "cell_type": "code",
   "execution_count": 16,
   "id": "59cd6571",
   "metadata": {},
   "outputs": [
    {
     "name": "stdout",
     "output_type": "stream",
     "text": [
      "444.1773573243596\n",
      "[2.62053888]\n"
     ]
    }
   ],
   "source": [
    "regres=model.fit(X, ks)\n",
    "print(regres.intercept_)# свободный член \n",
    "print(regres.coef_)# линейная часть, которая умножается на х, внутри нашей прямой (coef*x+intercept_)"
   ]
  },
  {
   "cell_type": "code",
   "execution_count": 29,
   "id": "8ed9342b",
   "metadata": {},
   "outputs": [
    {
     "data": {
      "text/plain": [
       "0.7876386635293686"
      ]
     },
     "execution_count": 29,
     "metadata": {},
     "output_type": "execute_result"
    }
   ],
   "source": [
    "regres.score (x,y) # Коэффициент детерминации 𝑹^𝟐 из математической модели"
   ]
  },
  {
   "attachments": {},
   "cell_type": "markdown",
   "id": "106dfdc6",
   "metadata": {},
   "source": [
    "Расчет коэффициентов по формулам\n"
   ]
  },
  {
   "cell_type": "code",
   "execution_count": 31,
   "id": "36010960",
   "metadata": {},
   "outputs": [],
   "source": [
    "import numpy as np\n",
    "zp = np.array ([35, 45, 190, 200, 40, 70, 54, 150, 120, 110]) \n",
    "ks = np.array ([401, 574, 874, 919, 459, 739, 653, 902, 746, 832])\n",
    "n=10 "
   ]
  },
  {
   "cell_type": "code",
   "execution_count": 32,
   "id": "ef1ddcd2",
   "metadata": {},
   "outputs": [
    {
     "data": {
      "text/plain": [
       "2.6205388824027653"
      ]
     },
     "execution_count": 32,
     "metadata": {},
     "output_type": "execute_result"
    }
   ],
   "source": [
    "b1=(n*np.sum(zp*ks)-np.sum(zp)*np.sum(ks))/(n*np.sum(zp**2)-np.sum(zp)**2)\n",
    "b1"
   ]
  },
  {
   "cell_type": "code",
   "execution_count": 33,
   "id": "2c84c20c",
   "metadata": {},
   "outputs": [
    {
     "data": {
      "text/plain": [
       "2.620538882402765"
      ]
     },
     "execution_count": 33,
     "metadata": {},
     "output_type": "execute_result"
    }
   ],
   "source": [
    "b1=(np.mean(zp*ks)-np.mean(zp)*np.mean(ks))/(np.mean(zp**2)-np.mean(zp)**2)\n",
    "b1# второй способ"
   ]
  },
  {
   "cell_type": "code",
   "execution_count": 34,
   "id": "3d9fa628",
   "metadata": {},
   "outputs": [
    {
     "data": {
      "text/plain": [
       "444.1773573243596"
      ]
     },
     "execution_count": 34,
     "metadata": {},
     "output_type": "execute_result"
    }
   ],
   "source": [
    "b0=np.mean(ks)-b1*np.mean(zp)\n",
    "b0"
   ]
  },
  {
   "cell_type": "code",
   "execution_count": 35,
   "id": "ed94b481",
   "metadata": {},
   "outputs": [
    {
     "data": {
      "text/plain": [
       "array([535.89621821, 562.10160703, 942.07974498, 968.2851338 ,\n",
       "       548.99891262, 627.61507909, 585.68645697, 837.25818968,\n",
       "       758.64202321, 732.43663439])"
      ]
     },
     "execution_count": 35,
     "metadata": {},
     "output_type": "execute_result"
    }
   ],
   "source": [
    "y_pred=b0+b1*zp\n",
    "y_pred"
   ]
  },
  {
   "cell_type": "code",
   "execution_count": null,
   "id": "91b09c49",
   "metadata": {},
   "outputs": [],
   "source": []
  },
  {
   "cell_type": "markdown",
   "id": "388ad259",
   "metadata": {},
   "source": [
    "2.\tПосчитать коэффициент линейной регрессии при заработной плате (zp), используя градиентный спуск (без intercept)."
   ]
  },
  {
   "cell_type": "code",
   "execution_count": 60,
   "id": "11d79c73",
   "metadata": {},
   "outputs": [],
   "source": [
    "zp = np.array ([35, 45, 190, 200, 40, 70, 54, 150, 120, 110]) \n",
    "ks = np.array ([401, 574, 874, 919, 459, 739, 653, 902, 746, 832])\n",
    "def mse_(B1, y=ks, x=zp, n=10):\n",
    "    return np.sum((B1*x-y)**2)/n\n",
    "\n",
    "alpha = 1e-6 # скорость обучения\n",
    "\n",
    "# mse = 1/n * np.sum((B1*x-y)**2)\n",
    "# mse = 2/n * np.sum((B1*x-y)* x)\n",
    "\n",
    "B1 = 0.1\n",
    "n = 10 "
   ]
  },
  {
   "cell_type": "code",
   "execution_count": 63,
   "id": "031eff0d",
   "metadata": {},
   "outputs": [
    {
     "name": "stdout",
     "output_type": "stream",
     "text": [
      "B1 = 0.5655188230595969\n",
      "B1 = 0.7122203698240712\n",
      "B1 = 0.8548798195302346\n",
      "B1 = 0.9936085448867542\n",
      "B1 = 1.1285148499277806\n",
      "B1 = 1.2597040545647504\n",
      "B1 = 1.387278576808517\n",
      "B1 = 1.5113380127259965\n",
      "B1 = 1.6319792141937546\n",
      "B1 = 1.7492963645092312\n"
     ]
    }
   ],
   "source": [
    "for i in range (10):\n",
    "    B1 -= alpha * (2/n) * np.sum((B1*x-y)* x)\n",
    "    print ('B1 = {}'.format(B1)) \n",
    "    # 10 итераций и скорость обучения alpha = 0.000001. \n",
    "    # Коэффициент на 10-й  итерации продолжает изменяться"
   ]
  },
  {
   "cell_type": "code",
   "execution_count": 69,
   "id": "3c42bdc1",
   "metadata": {},
   "outputs": [
    {
     "name": "stdout",
     "output_type": "stream",
     "text": [
      "Iteranion = 0, B1 = 2.2891400600064395, mse = 235129.08674783848\n",
      "Iteranion = 500, B1 = 5.889817334740749, mse = 56516.85841585057\n",
      "Iteranion = 1000, B1 = 5.889820420130045, mse = 56516.85841571941\n",
      "Iteranion = 1500, B1 = 5.889820420132673, mse = 56516.85841571943\n",
      "Iteranion = 2000, B1 = 5.889820420132673, mse = 56516.85841571943\n",
      "Iteranion = 2500, B1 = 5.889820420132673, mse = 56516.85841571943\n"
     ]
    }
   ],
   "source": [
    "for i in range (3000):\n",
    "    B1 -= alpha * (2/n) * np.sum((B1*x-y)* x)\n",
    "    if i % 500 == 0:\n",
    "        print ('Iteranion = {i}, B1 = {B1}, mse = {mse}'.format(i=i, B1=B1, mse = mse_(B1)))\n",
    "        # увеличим число итераций  до 3000 и будем выводить каждую 500 итерацию и помимо коэффициента будем выводить и mse        "
   ]
  },
  {
   "cell_type": "code",
   "execution_count": 73,
   "id": "948ea4bf",
   "metadata": {},
   "outputs": [
    {
     "data": {
      "text/plain": [
       "56516.8584157194"
      ]
     },
     "execution_count": 73,
     "metadata": {},
     "output_type": "execute_result"
    }
   ],
   "source": [
    "mse_(5.88982042013) # mse одинаковы Функция потерь 𝑚𝑠𝑒 - мера измерения ошибок, которые функция делает на нашем наборе данных\n"
   ]
  },
  {
   "cell_type": "markdown",
   "id": "0d150c61",
   "metadata": {},
   "source": [
    "Мы видим, что в последних 3-х выведенных итерациях  mse  уже не меняется до 13-го знака после запятой и  изменение коэффициента также остановилось. Мы получили модель вида: y ̂= 5.8898*x"
   ]
  },
  {
   "cell_type": "code",
   "execution_count": null,
   "id": "0839ba33",
   "metadata": {},
   "outputs": [],
   "source": []
  },
  {
   "cell_type": "markdown",
   "id": "eea3f3af",
   "metadata": {},
   "source": [
    "\n"
   ]
  },
  {
   "cell_type": "code",
   "execution_count": null,
   "id": "d0ee73ee",
   "metadata": {},
   "outputs": [],
   "source": []
  }
 ],
 "metadata": {
  "kernelspec": {
   "display_name": "Python 3 (ipykernel)",
   "language": "python",
   "name": "python3"
  },
  "language_info": {
   "codemirror_mode": {
    "name": "ipython",
    "version": 3
   },
   "file_extension": ".py",
   "mimetype": "text/x-python",
   "name": "python",
   "nbconvert_exporter": "python",
   "pygments_lexer": "ipython3",
   "version": "3.9.12"
  }
 },
 "nbformat": 4,
 "nbformat_minor": 5
}
