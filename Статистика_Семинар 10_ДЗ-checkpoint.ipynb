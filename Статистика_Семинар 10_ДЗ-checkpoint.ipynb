{
 "cells": [
  {
   "cell_type": "code",
   "execution_count": null,
   "id": "9fca1387",
   "metadata": {},
   "outputs": [],
   "source": [
    "Провести дисперсионный анализ для определения того, есть ли различия среднего роста среди взрослых футболистов, хоккеистов и штангистов. \n",
    "Даны значения роста в трех группах случайно выбранных спортсменов: \n",
    "Футболисты: 173, 175, 180, 178, 177, 185, 183, 182. \n",
    "Хоккеисты: 177, 179, 180, 188, 177, 172, 171, 184, 180. \n",
    "Штангисты: 172, 173, 169, 177, 166, 180, 178, 177, 172, 166, 170."
   ]
  },
  {
   "cell_type": "code",
   "execution_count": 1,
   "id": "19b0b7b0",
   "metadata": {},
   "outputs": [],
   "source": [
    "import scipy.stats as stats\n",
    "import numpy as np\n",
    "from scipy.stats import bartlett\n",
    "from statsmodels.stats.multicomp import pairwise_tukeyhsd\n",
    "import pandas as pd"
   ]
  },
  {
   "cell_type": "code",
   "execution_count": 3,
   "id": "cb962eec",
   "metadata": {},
   "outputs": [],
   "source": [
    "f= np.array ([173, 175, 180, 178, 177, 185, 183, 182])\n",
    "h= np.array ([177, 179, 180, 188, 177, 172, 171, 184, 180])\n",
    "sh= np.array ([172, 173, 169, 177, 166, 180, 178, 177, 172, 166, 170])"
   ]
  },
  {
   "cell_type": "code",
   "execution_count": 4,
   "id": "2fb18857",
   "metadata": {},
   "outputs": [
    {
     "name": "stdout",
     "output_type": "stream",
     "text": [
      "shapiro f: ShapiroResult(statistic=0.9775081276893616, pvalue=0.9495397210121155)\n",
      "shapiro h: ShapiroResult(statistic=0.9579195976257324, pvalue=0.7763133645057678)\n",
      "shapiro sh: ShapiroResult(statistic=0.93868088722229, pvalue=0.5051169991493225)\n"
     ]
    }
   ],
   "source": [
    "print(f\"shapiro f: {stats.shapiro(f)}\")\n",
    "print(f\"shapiro h: {stats.shapiro(h)}\")\n",
    "print(f\"shapiro sh: {stats.shapiro(sh)}\")\n"
   ]
  },
  {
   "cell_type": "code",
   "execution_count": 5,
   "id": "d94124b9",
   "metadata": {},
   "outputs": [
    {
     "name": "stdout",
     "output_type": "stream",
     "text": [
      "8\n",
      "9\n",
      "11\n"
     ]
    }
   ],
   "source": [
    "print(len(f))\n",
    "print(len(h))\n",
    "print(len(sh))\n"
   ]
  },
  {
   "cell_type": "code",
   "execution_count": null,
   "id": "927c1507",
   "metadata": {},
   "outputs": [],
   "source": [
    "Тест Шапиро-Уилко показал, что все три выборки нормально распределены, pvalue > alpha = 0,05. Стат различий нет \n",
    "Выборки не однородные - разный объем , проведем тест Бартлетта "
   ]
  },
  {
   "cell_type": "code",
   "execution_count": 6,
   "id": "9227fc81",
   "metadata": {},
   "outputs": [
    {
     "data": {
      "text/plain": [
       "BartlettResult(statistic=0.4640521043406442, pvalue=0.7929254656083131)"
      ]
     },
     "execution_count": 6,
     "metadata": {},
     "output_type": "execute_result"
    }
   ],
   "source": [
    "stats.bartlett(f, h, sh)"
   ]
  },
  {
   "cell_type": "code",
   "execution_count": null,
   "id": "f6da2da1",
   "metadata": {},
   "outputs": [],
   "source": [
    "pvalue > alpha = 0,05. Стат различий нет\n",
    "Равенство дисперсий есть, можем провести дисперсионный анализ "
   ]
  },
  {
   "cell_type": "code",
   "execution_count": 7,
   "id": "a79bf955",
   "metadata": {},
   "outputs": [
    {
     "data": {
      "text/plain": [
       "F_onewayResult(statistic=5.500053450812596, pvalue=0.010482206918698694)"
      ]
     },
     "execution_count": 7,
     "metadata": {},
     "output_type": "execute_result"
    }
   ],
   "source": [
    "stats.f_oneway(f, h, sh) # дисперсионный анализ "
   ]
  },
  {
   "cell_type": "code",
   "execution_count": null,
   "id": "a0306254",
   "metadata": {},
   "outputs": [],
   "source": [
    "pvalue < alpha = 0,05 \n",
    "Принимаем альтернативную гипотезу , есть различия среднего роста среди взрослых футболистов, хоккеистов и штангистов."
   ]
  }
 ],
 "metadata": {
  "kernelspec": {
   "display_name": "Python 3 (ipykernel)",
   "language": "python",
   "name": "python3"
  },
  "language_info": {
   "codemirror_mode": {
    "name": "ipython",
    "version": 3
   },
   "file_extension": ".py",
   "mimetype": "text/x-python",
   "name": "python",
   "nbconvert_exporter": "python",
   "pygments_lexer": "ipython3",
   "version": "3.9.12"
  }
 },
 "nbformat": 4,
 "nbformat_minor": 5
}
